{
 "cells": [
  {
   "cell_type": "code",
   "execution_count": 116,
   "metadata": {
    "collapsed": false
   },
   "outputs": [
    {
     "name": "stdout",
     "output_type": "stream",
     "text": [
      "The cython extension is already loaded. To reload it, use:\n",
      "  %reload_ext cython\n"
     ]
    }
   ],
   "source": [
    "import numpy as np # linear algebra\n",
    "import pandas as pd # data processing, CSV file I/O (e.g. pd.read_csv)\n",
    "import os\n",
    "import gc\n",
    "import re\n",
    "import matplotlib.pyplot as plt\n",
    "import seaborn as sns\n",
    "import string\n",
    "import time\n",
    "from sklearn import datasets, linear_model\n",
    "from sklearn import cross_validation, metrics\n",
    "from nltk.corpus import stopwords\n",
    "import timeit\n",
    "from xgboost.sklearn import XGBClassifier\n",
    "import xgboost as xgb\n",
    "from sklearn.feature_extraction.text import CountVectorizer\n",
    "from sklearn.feature_extraction.text import TfidfTransformer\n",
    "from sklearn.metrics.pairwise import cosine_similarity\n",
    "from scipy import sparse\n",
    "from nltk import ngrams\n",
    "from sklearn.ensemble import RandomForestRegressor, BaggingRegressor\n",
    "from nltk.stem.snowball import SnowballStemmer\n",
    "%matplotlib inline\n",
    "%load_ext cython"
   ]
  },
  {
   "cell_type": "code",
   "execution_count": 2,
   "metadata": {
    "collapsed": true
   },
   "outputs": [],
   "source": [
    "#Run Attributes\n",
    "maxGram=1"
   ]
  },
  {
   "cell_type": "code",
   "execution_count": 3,
   "metadata": {
    "collapsed": true
   },
   "outputs": [],
   "source": [
    "train = pd.read_csv('../input/train.csv')\n",
    "test = pd.read_csv('../input/test.csv')\n",
    "sample = pd.read_csv('../input/sample_submission.csv')\n",
    "train=train.fillna('----')\n",
    "test=test.fillna('----')"
   ]
  },
  {
   "cell_type": "code",
   "execution_count": 4,
   "metadata": {
    "collapsed": true
   },
   "outputs": [],
   "source": [
    "stops=stopwords.words(\"english\")+['']\n",
    "strPunc=string.punctuation + '“”'"
   ]
  },
  {
   "cell_type": "code",
   "execution_count": 131,
   "metadata": {
    "collapsed": false
   },
   "outputs": [],
   "source": [
    "def puncRepl(c):\n",
    "    if c in '-_':\n",
    "        return ''\n",
    "    elif c in strPunc:\n",
    "        return ' '\n",
    "    else:\n",
    "        return c\n",
    "def cleanQ(Q):\n",
    "    Q = Q.lower()\n",
    "    Q = ''.join([puncRepl(x) for x in Q]) #change this to RE with punc followed by whitespace\n",
    "    Q = [x for x in Q.split(' ') if x not in stops]\n",
    "    return Q"
   ]
  },
  {
   "cell_type": "code",
   "execution_count": 129,
   "metadata": {
    "collapsed": true
   },
   "outputs": [],
   "source": [
    "#######Setup Train Qs#######\n",
    "train['question1C']=train.apply(lambda row: cleanQ(row['question1']),axis=1)\n",
    "train['question2C']=train.apply(lambda row: cleanQ(row['question2']),axis=1)\n",
    "train_qs = pd.Series(train['question1'].tolist() + train['question2'].tolist()).astype(str)"
   ]
  },
  {
   "cell_type": "code",
   "execution_count": 122,
   "metadata": {
    "collapsed": false
   },
   "outputs": [
    {
     "data": {
      "text/plain": [
       "['hard', 'parse', 'understand', 'sentence', 'another', 'one']"
      ]
     },
     "execution_count": 122,
     "metadata": {},
     "output_type": "execute_result"
    }
   ],
   "source": [
    "qt=\"hard to parse/understand sentence. And 'another' one\"\n",
    "cleanQ(qt)"
   ]
  },
  {
   "cell_type": "code",
   "execution_count": 123,
   "metadata": {
    "collapsed": false
   },
   "outputs": [
    {
     "name": "stdout",
     "output_type": "stream",
     "text": [
      "0 Minute(s), 38 Second(s).\n"
     ]
    }
   ],
   "source": [
    "start = time.time()\n",
    "\n",
    "counter=0\n",
    "gDict = {}\n",
    "for i in range(1,maxGram+1):\n",
    "    gDict[i]={}\n",
    "for row in train_qs:\n",
    "    question = cleanQ(row)\n",
    "    for i in range(1,maxGram+1):\n",
    "        for count in range(0,len(question)-(i-1)):\n",
    "            phrase = ' '.join(question[count:count+i])\n",
    "            if phrase in gDict[i]:\n",
    "                gDict[i][phrase] = gDict[i][phrase] + 1\n",
    "            else:\n",
    "                gDict[i][phrase] = 1\n",
    "\n",
    "                \n",
    "#print(counter)\n",
    "duration = time.time() - start\n",
    "print(str(int(duration//60)) + \" Minute(s), \" + str(int(duration%60)) + \" Second(s).\")"
   ]
  },
  {
   "cell_type": "code",
   "execution_count": 28,
   "metadata": {
    "collapsed": true
   },
   "outputs": [],
   "source": [
    "weights={}\n",
    "for i in range(1,maxGram+1):\n",
    "    weights[i] = dict((k, 1/(np.log(v))) for k, v in gDict[i].items() if v>1)"
   ]
  },
  {
   "cell_type": "code",
   "execution_count": 29,
   "metadata": {
    "collapsed": true
   },
   "outputs": [],
   "source": [
    "def genGramTFIDF(a,b,g=1): #WIP\n",
    "    a,b=a.lower(),b.lower()\n",
    "    a=''.join([x for x in a if not x in strPunc])\n",
    "    b=''.join([x for x in b if not x in strPunc])\n",
    "    a,b=a.split(),b.split()\n",
    "    a=[x for x in a if x not in stops]\n",
    "    b=[x for x in b if x not in stops]\n",
    "    a=[' '.join(a[i:i+g]) for i in range(len(a)-g+1)]\n",
    "    b=[' '.join(b[i:i+g]) for i in range(len(b)-g+1)]\n",
    "    #a=list(set(a))\n",
    "    #b=list(set(b))\n",
    "    num=np.sum([b.count(x)*weights[g].get(x,0)**2 for x in a if x in b])\n",
    "    den1=np.linalg.norm(np.array([weights[g].get(x,0) for x in a]))\n",
    "    den2=np.linalg.norm(np.array([weights[g].get(x,0) for x in b]))\n",
    "    den = (den1*den2)\n",
    "    return num,den,num/den,den1,den2"
   ]
  },
  {
   "cell_type": "code",
   "execution_count": 30,
   "metadata": {
    "collapsed": false
   },
   "outputs": [
    {
     "name": "stderr",
     "output_type": "stream",
     "text": [
      "C:\\Anaconda3\\lib\\site-packages\\ipykernel\\__main__.py:16: RuntimeWarning: invalid value encountered in double_scalars\n"
     ]
    },
    {
     "name": "stdout",
     "output_type": "stream",
     "text": [
      "1\n",
      "3 Minute(s), 5 Second(s).\n"
     ]
    }
   ],
   "source": [
    "start = time.time()\n",
    "for i in range(1,maxGram+1):\n",
    "    (train['GIDFNum'+str(i)],train['GIDFDen'+str(i)],train['GIDF'+str(i)],train['GIDFDen1'+str(i)],train['GIDFDen2'+str(i)])= \\\n",
    "    zip(*train.apply(lambda row: genGramTFIDF(row['question1'],row['question2'],i),axis=1))\n",
    "    print(i)\n",
    "duration = time.time() - start\n",
    "print(str(int(duration//60)) + \" Minute(s), \" + str(int(duration%60)) + \" Second(s).\")"
   ]
  },
  {
   "cell_type": "code",
   "execution_count": null,
   "metadata": {
    "collapsed": true
   },
   "outputs": [],
   "source": []
  },
  {
   "cell_type": "code",
   "execution_count": 103,
   "metadata": {
    "collapsed": true
   },
   "outputs": [],
   "source": [
    "target='is_duplicate'\n",
    "predictors = [x for x in list(train) if x not in ['id','qid1','qid2','question1','question2','is_duplicate','rdSimPct', 'preds']]"
   ]
  },
  {
   "cell_type": "code",
   "execution_count": 104,
   "metadata": {
    "collapsed": false,
    "scrolled": true
   },
   "outputs": [
    {
     "data": {
      "text/plain": [
       "((323432, 6), (80858, 6), (323432,), (80858,))"
      ]
     },
     "execution_count": 104,
     "metadata": {},
     "output_type": "execute_result"
    }
   ],
   "source": [
    "from sklearn.preprocessing import MinMaxScaler\n",
    "\n",
    "train[predictors]=train[predictors].fillna(0)\n",
    "\n",
    "scaler = MinMaxScaler().fit(train[predictors])\n",
    "\n",
    "X = pd.DataFrame(scaler.transform(train[predictors]),columns=predictors)\n",
    "y = train['is_duplicate']\n",
    "\n",
    "x_train, x_valid, y_train, y_valid = train_test_split(X, y, test_size=0.2, random_state=42)\n",
    "\n",
    "x_train.shape, x_valid.shape, y_train.shape, y_valid.shape"
   ]
  },
  {
   "cell_type": "code",
   "execution_count": 96,
   "metadata": {
    "collapsed": false,
    "scrolled": true
   },
   "outputs": [
    {
     "name": "stdout",
     "output_type": "stream",
     "text": [
      "[0]\ttrain-logloss:0.631293\tvalid-logloss:0.632417\n",
      "Multiple eval metrics have been passed: 'valid-logloss' will be used for early stopping.\n",
      "\n",
      "Will train until valid-logloss hasn't improved in 50 rounds.\n",
      "[10]\ttrain-logloss:0.532377\tvalid-logloss:0.536272\n",
      "[20]\ttrain-logloss:0.524671\tvalid-logloss:0.52925\n",
      "[30]\ttrain-logloss:0.519834\tvalid-logloss:0.525272\n",
      "[40]\ttrain-logloss:0.516677\tvalid-logloss:0.522468\n",
      "[50]\ttrain-logloss:0.513282\tvalid-logloss:0.519454\n",
      "[60]\ttrain-logloss:0.511525\tvalid-logloss:0.518265\n",
      "[70]\ttrain-logloss:0.509169\tvalid-logloss:0.51645\n",
      "[80]\ttrain-logloss:0.507346\tvalid-logloss:0.515138\n",
      "[90]\ttrain-logloss:0.505803\tvalid-logloss:0.514029\n",
      "[100]\ttrain-logloss:0.504154\tvalid-logloss:0.512811\n",
      "[110]\ttrain-logloss:0.502574\tvalid-logloss:0.511738\n",
      "[120]\ttrain-logloss:0.500724\tvalid-logloss:0.510396\n",
      "[130]\ttrain-logloss:0.499606\tvalid-logloss:0.509695\n",
      "[140]\ttrain-logloss:0.498587\tvalid-logloss:0.50913\n",
      "[150]\ttrain-logloss:0.497759\tvalid-logloss:0.508752\n",
      "[160]\ttrain-logloss:0.496906\tvalid-logloss:0.508324\n",
      "[170]\ttrain-logloss:0.495708\tvalid-logloss:0.507497\n",
      "[180]\ttrain-logloss:0.494596\tvalid-logloss:0.506836\n",
      "[190]\ttrain-logloss:0.493916\tvalid-logloss:0.506405\n",
      "[200]\ttrain-logloss:0.492894\tvalid-logloss:0.505955\n",
      "[210]\ttrain-logloss:0.491938\tvalid-logloss:0.50543\n",
      "[220]\ttrain-logloss:0.491047\tvalid-logloss:0.505002\n",
      "[230]\ttrain-logloss:0.490238\tvalid-logloss:0.50452\n",
      "[240]\ttrain-logloss:0.48925\tvalid-logloss:0.504031\n",
      "[250]\ttrain-logloss:0.488201\tvalid-logloss:0.503419\n",
      "[260]\ttrain-logloss:0.487114\tvalid-logloss:0.502796\n",
      "[270]\ttrain-logloss:0.486153\tvalid-logloss:0.50233\n",
      "[280]\ttrain-logloss:0.485093\tvalid-logloss:0.501676\n",
      "[290]\ttrain-logloss:0.484276\tvalid-logloss:0.501241\n"
     ]
    }
   ],
   "source": [
    "from sklearn.cross_validation import train_test_split\n",
    "\n",
    "#x_train, x_valid, y_train, y_valid = train_test_split(train[predictors], train[target], test_size=0.2, random_state=4242)\n",
    "\n",
    "# Set our parameters for xgboost\n",
    "params = {}\n",
    "params['objective'] = 'binary:logistic'\n",
    "params['eval_metric'] = 'logloss'\n",
    "params['eta'] = 0.3\n",
    "params['max_depth'] = 4\n",
    "\n",
    "d_train = xgb.DMatrix(x_train, label=y_train)\n",
    "d_valid = xgb.DMatrix(x_valid, label=y_valid)\n",
    "\n",
    "watchlist = [(d_train, 'train'), (d_valid, 'valid')]\n",
    "\n",
    "bst = xgb.train(params, d_train, 300, watchlist, early_stopping_rounds=50, verbose_eval=10)"
   ]
  },
  {
   "cell_type": "code",
   "execution_count": 110,
   "metadata": {
    "collapsed": false
   },
   "outputs": [
    {
     "data": {
      "image/png": "[encoded data removed]",
      "text/plain": [
       "<matplotlib.figure.Figure at 0x353f2112b0>"
      ]
     },
     "metadata": {},
     "output_type": "display_data"
    }
   ],
   "source": [
    "plt.rcParams['figure.figsize'] = (12.0, 15.0)\n",
    "xgb.plot_importance(bst); plt.show()"
   ]
  },
  {
   "cell_type": "code",
   "execution_count": 13,
   "metadata": {
    "collapsed": true
   },
   "outputs": [],
   "source": [
    "#1TFIDF .517835\n",
    "#Adding num and den: 0.513763\n",
    "#log->v+10k: 0.500909\n",
    "#Back to Log, normalized nums: 0.501241 +RF ->0.499851\n",
    "\n",
    "\n",
    "\n",
    "#TFIDF on 5: 0.418284"
   ]
  },
  {
   "cell_type": "code",
   "execution_count": 14,
   "metadata": {
    "collapsed": false
   },
   "outputs": [
    {
     "ename": "NameError",
     "evalue": "name 'notafunc' is not defined",
     "output_type": "error",
     "traceback": [
      "\u001b[0;31m---------------------------------------------------------------------------\u001b[0m",
      "\u001b[0;31mNameError\u001b[0m                                 Traceback (most recent call last)",
      "\u001b[0;32m<ipython-input-14-7058a6433614>\u001b[0m in \u001b[0;36m<module>\u001b[0;34m()\u001b[0m\n\u001b[1;32m      1\u001b[0m \u001b[1;31m#NV#\u001b[0m\u001b[1;33m\u001b[0m\u001b[1;33m\u001b[0m\u001b[0m\n\u001b[0;32m----> 2\u001b[0;31m \u001b[0mnotafunc\u001b[0m\u001b[1;33m\u001b[0m\u001b[0m\n\u001b[0m",
      "\u001b[0;31mNameError\u001b[0m: name 'notafunc' is not defined"
     ]
    }
   ],
   "source": [
    "#NV#\n",
    "notafunc"
   ]
  },
  {
   "cell_type": "code",
   "execution_count": 99,
   "metadata": {
    "collapsed": false
   },
   "outputs": [],
   "source": [
    "d_train = xgb.DMatrix(X, label=y_train)\n",
    "train['preds']=bst.predict(d_train)"
   ]
  },
  {
   "cell_type": "code",
   "execution_count": 51,
   "metadata": {
    "collapsed": false
   },
   "outputs": [
    {
     "name": "stderr",
     "output_type": "stream",
     "text": [
      "C:\\Anaconda3\\lib\\site-packages\\statsmodels\\nonparametric\\kdetools.py:20: VisibleDeprecationWarning: using a non-integer number instead of an integer will result in an error in the future\n",
      "  y = X[:m/2+1] + np.r_[0,X[m/2+1:],0]*1j\n"
     ]
    },
    {
     "data": {
      "text/plain": [
       "<matplotlib.axes._subplots.AxesSubplot at 0x35488552b0>"
      ]
     },
     "execution_count": 51,
     "metadata": {},
     "output_type": "execute_result"
    },
    {
     "data": {
      "image/png": "[encoded data removed]",
      "text/plain": [
       "<matplotlib.figure.Figure at 0x350ab45cf8>"
      ]
     },
     "metadata": {},
     "output_type": "display_data"
    }
   ],
   "source": [
    "sns.distplot(train.preds[0:2000])"
   ]
  },
  {
   "cell_type": "code",
   "execution_count": 93,
   "metadata": {
    "collapsed": false
   },
   "outputs": [
    {
     "data": {
      "text/html": [
       "<div>\n",
       "<table border=\"1\" class=\"dataframe\">\n",
       "  <thead>\n",
       "    <tr style=\"text-align: right;\">\n",
       "      <th></th>\n",
       "      <th>GIDFNum1</th>\n",
       "      <th>GIDFDen1</th>\n",
       "      <th>GIDF1</th>\n",
       "      <th>GIDFDen11</th>\n",
       "      <th>GIDFDen21</th>\n",
       "      <th>xgbPreds</th>\n",
       "    </tr>\n",
       "  </thead>\n",
       "  <tbody>\n",
       "    <tr>\n",
       "      <th>352886</th>\n",
       "      <td>0.032346</td>\n",
       "      <td>0.084556</td>\n",
       "      <td>0.130171</td>\n",
       "      <td>0.205727</td>\n",
       "      <td>0.235446</td>\n",
       "      <td>0.552423</td>\n",
       "    </tr>\n",
       "    <tr>\n",
       "      <th>134949</th>\n",
       "      <td>0.036089</td>\n",
       "      <td>0.097831</td>\n",
       "      <td>0.125526</td>\n",
       "      <td>0.257844</td>\n",
       "      <td>0.217348</td>\n",
       "      <td>0.439214</td>\n",
       "    </tr>\n",
       "    <tr>\n",
       "      <th>168419</th>\n",
       "      <td>0.030776</td>\n",
       "      <td>0.087719</td>\n",
       "      <td>0.119384</td>\n",
       "      <td>0.267377</td>\n",
       "      <td>0.187935</td>\n",
       "      <td>0.505726</td>\n",
       "    </tr>\n",
       "    <tr>\n",
       "      <th>402543</th>\n",
       "      <td>0.146482</td>\n",
       "      <td>0.261600</td>\n",
       "      <td>0.190537</td>\n",
       "      <td>0.453342</td>\n",
       "      <td>0.330559</td>\n",
       "      <td>0.718598</td>\n",
       "    </tr>\n",
       "    <tr>\n",
       "      <th>13551</th>\n",
       "      <td>0.000000</td>\n",
       "      <td>0.069308</td>\n",
       "      <td>0.000000</td>\n",
       "      <td>0.207035</td>\n",
       "      <td>0.191767</td>\n",
       "      <td>0.001477</td>\n",
       "    </tr>\n",
       "    <tr>\n",
       "      <th>98507</th>\n",
       "      <td>0.038445</td>\n",
       "      <td>0.111338</td>\n",
       "      <td>0.117499</td>\n",
       "      <td>0.273786</td>\n",
       "      <td>0.232954</td>\n",
       "      <td>0.419151</td>\n",
       "    </tr>\n",
       "    <tr>\n",
       "      <th>114293</th>\n",
       "      <td>0.041311</td>\n",
       "      <td>0.096445</td>\n",
       "      <td>0.145756</td>\n",
       "      <td>0.275570</td>\n",
       "      <td>0.200486</td>\n",
       "      <td>0.571656</td>\n",
       "    </tr>\n",
       "    <tr>\n",
       "      <th>184067</th>\n",
       "      <td>0.046987</td>\n",
       "      <td>0.100713</td>\n",
       "      <td>0.158754</td>\n",
       "      <td>0.363972</td>\n",
       "      <td>0.158510</td>\n",
       "      <td>0.604201</td>\n",
       "    </tr>\n",
       "    <tr>\n",
       "      <th>27138</th>\n",
       "      <td>0.032861</td>\n",
       "      <td>0.079496</td>\n",
       "      <td>0.140661</td>\n",
       "      <td>0.207358</td>\n",
       "      <td>0.219615</td>\n",
       "      <td>0.527946</td>\n",
       "    </tr>\n",
       "    <tr>\n",
       "      <th>199544</th>\n",
       "      <td>0.034263</td>\n",
       "      <td>0.101817</td>\n",
       "      <td>0.114510</td>\n",
       "      <td>0.295594</td>\n",
       "      <td>0.197316</td>\n",
       "      <td>0.353402</td>\n",
       "    </tr>\n",
       "    <tr>\n",
       "      <th>387838</th>\n",
       "      <td>0.019811</td>\n",
       "      <td>0.052944</td>\n",
       "      <td>0.127327</td>\n",
       "      <td>0.231172</td>\n",
       "      <td>0.131195</td>\n",
       "      <td>0.421624</td>\n",
       "    </tr>\n",
       "    <tr>\n",
       "      <th>185828</th>\n",
       "      <td>0.044655</td>\n",
       "      <td>0.158336</td>\n",
       "      <td>0.095968</td>\n",
       "      <td>0.314459</td>\n",
       "      <td>0.288438</td>\n",
       "      <td>0.367354</td>\n",
       "    </tr>\n",
       "    <tr>\n",
       "      <th>370211</th>\n",
       "      <td>0.024748</td>\n",
       "      <td>0.048010</td>\n",
       "      <td>0.175403</td>\n",
       "      <td>0.215055</td>\n",
       "      <td>0.127885</td>\n",
       "      <td>0.592274</td>\n",
       "    </tr>\n",
       "    <tr>\n",
       "      <th>227715</th>\n",
       "      <td>0.019815</td>\n",
       "      <td>0.159051</td>\n",
       "      <td>0.042392</td>\n",
       "      <td>0.268580</td>\n",
       "      <td>0.339236</td>\n",
       "      <td>0.002405</td>\n",
       "    </tr>\n",
       "    <tr>\n",
       "      <th>378915</th>\n",
       "      <td>0.019139</td>\n",
       "      <td>0.166872</td>\n",
       "      <td>0.039027</td>\n",
       "      <td>0.311184</td>\n",
       "      <td>0.307187</td>\n",
       "      <td>0.003974</td>\n",
       "    </tr>\n",
       "    <tr>\n",
       "      <th>162584</th>\n",
       "      <td>0.020017</td>\n",
       "      <td>0.070924</td>\n",
       "      <td>0.096039</td>\n",
       "      <td>0.353244</td>\n",
       "      <td>0.115015</td>\n",
       "      <td>0.052250</td>\n",
       "    </tr>\n",
       "    <tr>\n",
       "      <th>31905</th>\n",
       "      <td>0.098056</td>\n",
       "      <td>0.150417</td>\n",
       "      <td>0.221825</td>\n",
       "      <td>0.295912</td>\n",
       "      <td>0.291186</td>\n",
       "      <td>0.633855</td>\n",
       "    </tr>\n",
       "    <tr>\n",
       "      <th>39289</th>\n",
       "      <td>0.031665</td>\n",
       "      <td>0.062032</td>\n",
       "      <td>0.173702</td>\n",
       "      <td>0.245644</td>\n",
       "      <td>0.144659</td>\n",
       "      <td>0.490500</td>\n",
       "    </tr>\n",
       "    <tr>\n",
       "      <th>188999</th>\n",
       "      <td>0.019882</td>\n",
       "      <td>0.032274</td>\n",
       "      <td>0.209624</td>\n",
       "      <td>0.161291</td>\n",
       "      <td>0.114626</td>\n",
       "      <td>0.536428</td>\n",
       "    </tr>\n",
       "    <tr>\n",
       "      <th>279535</th>\n",
       "      <td>0.052227</td>\n",
       "      <td>0.155552</td>\n",
       "      <td>0.114250</td>\n",
       "      <td>0.345694</td>\n",
       "      <td>0.257763</td>\n",
       "      <td>0.458619</td>\n",
       "    </tr>\n",
       "    <tr>\n",
       "      <th>386292</th>\n",
       "      <td>0.011914</td>\n",
       "      <td>0.022874</td>\n",
       "      <td>0.177237</td>\n",
       "      <td>0.147673</td>\n",
       "      <td>0.088734</td>\n",
       "      <td>0.611615</td>\n",
       "    </tr>\n",
       "    <tr>\n",
       "      <th>133848</th>\n",
       "      <td>0.033776</td>\n",
       "      <td>0.059282</td>\n",
       "      <td>0.193874</td>\n",
       "      <td>0.227303</td>\n",
       "      <td>0.149403</td>\n",
       "      <td>0.681244</td>\n",
       "    </tr>\n",
       "    <tr>\n",
       "      <th>370841</th>\n",
       "      <td>0.000000</td>\n",
       "      <td>0.354735</td>\n",
       "      <td>0.000000</td>\n",
       "      <td>0.579917</td>\n",
       "      <td>0.350409</td>\n",
       "      <td>0.000004</td>\n",
       "    </tr>\n",
       "    <tr>\n",
       "      <th>183748</th>\n",
       "      <td>0.000000</td>\n",
       "      <td>0.106076</td>\n",
       "      <td>0.000000</td>\n",
       "      <td>0.380070</td>\n",
       "      <td>0.159878</td>\n",
       "      <td>0.000462</td>\n",
       "    </tr>\n",
       "    <tr>\n",
       "      <th>10324</th>\n",
       "      <td>0.040197</td>\n",
       "      <td>0.099624</td>\n",
       "      <td>0.137298</td>\n",
       "      <td>0.277155</td>\n",
       "      <td>0.205909</td>\n",
       "      <td>0.541874</td>\n",
       "    </tr>\n",
       "    <tr>\n",
       "      <th>214657</th>\n",
       "      <td>0.042272</td>\n",
       "      <td>0.091901</td>\n",
       "      <td>0.156519</td>\n",
       "      <td>0.277834</td>\n",
       "      <td>0.189483</td>\n",
       "      <td>0.543762</td>\n",
       "    </tr>\n",
       "    <tr>\n",
       "      <th>355547</th>\n",
       "      <td>0.034083</td>\n",
       "      <td>0.073247</td>\n",
       "      <td>0.158337</td>\n",
       "      <td>0.279579</td>\n",
       "      <td>0.150079</td>\n",
       "      <td>0.487473</td>\n",
       "    </tr>\n",
       "    <tr>\n",
       "      <th>85956</th>\n",
       "      <td>0.045047</td>\n",
       "      <td>0.105664</td>\n",
       "      <td>0.145066</td>\n",
       "      <td>0.273347</td>\n",
       "      <td>0.221438</td>\n",
       "      <td>0.632057</td>\n",
       "    </tr>\n",
       "    <tr>\n",
       "      <th>129509</th>\n",
       "      <td>0.015047</td>\n",
       "      <td>0.092034</td>\n",
       "      <td>0.055633</td>\n",
       "      <td>0.280266</td>\n",
       "      <td>0.188112</td>\n",
       "      <td>0.687363</td>\n",
       "    </tr>\n",
       "    <tr>\n",
       "      <th>371329</th>\n",
       "      <td>0.017459</td>\n",
       "      <td>0.038371</td>\n",
       "      <td>0.154823</td>\n",
       "      <td>0.151141</td>\n",
       "      <td>0.145433</td>\n",
       "      <td>0.603058</td>\n",
       "    </tr>\n",
       "    <tr>\n",
       "      <th>...</th>\n",
       "      <td>...</td>\n",
       "      <td>...</td>\n",
       "      <td>...</td>\n",
       "      <td>...</td>\n",
       "      <td>...</td>\n",
       "      <td>...</td>\n",
       "    </tr>\n",
       "    <tr>\n",
       "      <th>184779</th>\n",
       "      <td>0.015605</td>\n",
       "      <td>0.065547</td>\n",
       "      <td>0.081013</td>\n",
       "      <td>0.232210</td>\n",
       "      <td>0.161700</td>\n",
       "      <td>0.461510</td>\n",
       "    </tr>\n",
       "    <tr>\n",
       "      <th>214176</th>\n",
       "      <td>0.023179</td>\n",
       "      <td>0.049574</td>\n",
       "      <td>0.159102</td>\n",
       "      <td>0.229451</td>\n",
       "      <td>0.123765</td>\n",
       "      <td>0.480126</td>\n",
       "    </tr>\n",
       "    <tr>\n",
       "      <th>235796</th>\n",
       "      <td>0.000000</td>\n",
       "      <td>0.087250</td>\n",
       "      <td>0.000000</td>\n",
       "      <td>0.230507</td>\n",
       "      <td>0.216829</td>\n",
       "      <td>0.000598</td>\n",
       "    </tr>\n",
       "    <tr>\n",
       "      <th>103355</th>\n",
       "      <td>0.055323</td>\n",
       "      <td>0.179825</td>\n",
       "      <td>0.104686</td>\n",
       "      <td>0.291534</td>\n",
       "      <td>0.353344</td>\n",
       "      <td>0.141210</td>\n",
       "    </tr>\n",
       "    <tr>\n",
       "      <th>267455</th>\n",
       "      <td>0.000000</td>\n",
       "      <td>0.131748</td>\n",
       "      <td>0.000000</td>\n",
       "      <td>0.344354</td>\n",
       "      <td>0.219167</td>\n",
       "      <td>0.000191</td>\n",
       "    </tr>\n",
       "    <tr>\n",
       "      <th>199041</th>\n",
       "      <td>0.028357</td>\n",
       "      <td>0.059399</td>\n",
       "      <td>0.162449</td>\n",
       "      <td>0.192624</td>\n",
       "      <td>0.176647</td>\n",
       "      <td>0.521317</td>\n",
       "    </tr>\n",
       "    <tr>\n",
       "      <th>252709</th>\n",
       "      <td>0.016650</td>\n",
       "      <td>0.027027</td>\n",
       "      <td>0.209624</td>\n",
       "      <td>0.147598</td>\n",
       "      <td>0.104895</td>\n",
       "      <td>0.453306</td>\n",
       "    </tr>\n",
       "    <tr>\n",
       "      <th>327069</th>\n",
       "      <td>0.042902</td>\n",
       "      <td>0.189491</td>\n",
       "      <td>0.077041</td>\n",
       "      <td>0.411743</td>\n",
       "      <td>0.263633</td>\n",
       "      <td>0.289508</td>\n",
       "    </tr>\n",
       "    <tr>\n",
       "      <th>194027</th>\n",
       "      <td>0.105328</td>\n",
       "      <td>0.168119</td>\n",
       "      <td>0.213187</td>\n",
       "      <td>0.391141</td>\n",
       "      <td>0.246218</td>\n",
       "      <td>0.407240</td>\n",
       "    </tr>\n",
       "    <tr>\n",
       "      <th>321879</th>\n",
       "      <td>0.002555</td>\n",
       "      <td>0.049733</td>\n",
       "      <td>0.017481</td>\n",
       "      <td>0.197557</td>\n",
       "      <td>0.144209</td>\n",
       "      <td>0.636831</td>\n",
       "    </tr>\n",
       "    <tr>\n",
       "      <th>262913</th>\n",
       "      <td>0.011777</td>\n",
       "      <td>0.115821</td>\n",
       "      <td>0.034600</td>\n",
       "      <td>0.306043</td>\n",
       "      <td>0.216792</td>\n",
       "      <td>0.109607</td>\n",
       "    </tr>\n",
       "    <tr>\n",
       "      <th>64820</th>\n",
       "      <td>0.057343</td>\n",
       "      <td>0.176464</td>\n",
       "      <td>0.110575</td>\n",
       "      <td>0.394867</td>\n",
       "      <td>0.256001</td>\n",
       "      <td>0.381578</td>\n",
       "    </tr>\n",
       "    <tr>\n",
       "      <th>329365</th>\n",
       "      <td>0.051635</td>\n",
       "      <td>0.261082</td>\n",
       "      <td>0.067298</td>\n",
       "      <td>0.406735</td>\n",
       "      <td>0.367709</td>\n",
       "      <td>0.049884</td>\n",
       "    </tr>\n",
       "    <tr>\n",
       "      <th>41090</th>\n",
       "      <td>0.020315</td>\n",
       "      <td>0.069385</td>\n",
       "      <td>0.099627</td>\n",
       "      <td>0.246084</td>\n",
       "      <td>0.161517</td>\n",
       "      <td>0.470011</td>\n",
       "    </tr>\n",
       "    <tr>\n",
       "      <th>278167</th>\n",
       "      <td>0.036001</td>\n",
       "      <td>0.082704</td>\n",
       "      <td>0.148125</td>\n",
       "      <td>0.217039</td>\n",
       "      <td>0.218286</td>\n",
       "      <td>0.564948</td>\n",
       "    </tr>\n",
       "    <tr>\n",
       "      <th>191335</th>\n",
       "      <td>0.063422</td>\n",
       "      <td>0.116646</td>\n",
       "      <td>0.185013</td>\n",
       "      <td>0.326389</td>\n",
       "      <td>0.204725</td>\n",
       "      <td>0.401223</td>\n",
       "    </tr>\n",
       "    <tr>\n",
       "      <th>175203</th>\n",
       "      <td>0.053907</td>\n",
       "      <td>0.180254</td>\n",
       "      <td>0.101764</td>\n",
       "      <td>0.363299</td>\n",
       "      <td>0.284223</td>\n",
       "      <td>0.336673</td>\n",
       "    </tr>\n",
       "    <tr>\n",
       "      <th>388468</th>\n",
       "      <td>0.067536</td>\n",
       "      <td>0.216052</td>\n",
       "      <td>0.106368</td>\n",
       "      <td>0.375461</td>\n",
       "      <td>0.329633</td>\n",
       "      <td>0.462833</td>\n",
       "    </tr>\n",
       "    <tr>\n",
       "      <th>374871</th>\n",
       "      <td>0.019787</td>\n",
       "      <td>0.044194</td>\n",
       "      <td>0.152354</td>\n",
       "      <td>0.221391</td>\n",
       "      <td>0.114352</td>\n",
       "      <td>0.256568</td>\n",
       "    </tr>\n",
       "    <tr>\n",
       "      <th>87498</th>\n",
       "      <td>0.105148</td>\n",
       "      <td>0.234794</td>\n",
       "      <td>0.152386</td>\n",
       "      <td>0.489280</td>\n",
       "      <td>0.274896</td>\n",
       "      <td>0.523303</td>\n",
       "    </tr>\n",
       "    <tr>\n",
       "      <th>137337</th>\n",
       "      <td>0.023108</td>\n",
       "      <td>0.110207</td>\n",
       "      <td>0.071350</td>\n",
       "      <td>0.311832</td>\n",
       "      <td>0.202454</td>\n",
       "      <td>0.301184</td>\n",
       "    </tr>\n",
       "    <tr>\n",
       "      <th>54886</th>\n",
       "      <td>0.018601</td>\n",
       "      <td>0.063457</td>\n",
       "      <td>0.099743</td>\n",
       "      <td>0.242037</td>\n",
       "      <td>0.150187</td>\n",
       "      <td>0.529326</td>\n",
       "    </tr>\n",
       "    <tr>\n",
       "      <th>207892</th>\n",
       "      <td>0.057017</td>\n",
       "      <td>0.092554</td>\n",
       "      <td>0.209624</td>\n",
       "      <td>0.273137</td>\n",
       "      <td>0.194113</td>\n",
       "      <td>0.831878</td>\n",
       "    </tr>\n",
       "    <tr>\n",
       "      <th>110268</th>\n",
       "      <td>0.032136</td>\n",
       "      <td>0.083581</td>\n",
       "      <td>0.130834</td>\n",
       "      <td>0.261991</td>\n",
       "      <td>0.182750</td>\n",
       "      <td>0.563431</td>\n",
       "    </tr>\n",
       "    <tr>\n",
       "      <th>119879</th>\n",
       "      <td>0.017819</td>\n",
       "      <td>0.105781</td>\n",
       "      <td>0.057321</td>\n",
       "      <td>0.340925</td>\n",
       "      <td>0.177740</td>\n",
       "      <td>0.166311</td>\n",
       "    </tr>\n",
       "    <tr>\n",
       "      <th>259178</th>\n",
       "      <td>0.019635</td>\n",
       "      <td>0.093465</td>\n",
       "      <td>0.071484</td>\n",
       "      <td>0.275115</td>\n",
       "      <td>0.194613</td>\n",
       "      <td>0.138357</td>\n",
       "    </tr>\n",
       "    <tr>\n",
       "      <th>365838</th>\n",
       "      <td>0.093637</td>\n",
       "      <td>0.176994</td>\n",
       "      <td>0.180022</td>\n",
       "      <td>0.407585</td>\n",
       "      <td>0.248758</td>\n",
       "      <td>0.341866</td>\n",
       "    </tr>\n",
       "    <tr>\n",
       "      <th>131932</th>\n",
       "      <td>0.036207</td>\n",
       "      <td>0.111991</td>\n",
       "      <td>0.110011</td>\n",
       "      <td>0.283858</td>\n",
       "      <td>0.226006</td>\n",
       "      <td>0.429132</td>\n",
       "    </tr>\n",
       "    <tr>\n",
       "      <th>146867</th>\n",
       "      <td>0.038279</td>\n",
       "      <td>0.103218</td>\n",
       "      <td>0.126194</td>\n",
       "      <td>0.300512</td>\n",
       "      <td>0.196758</td>\n",
       "      <td>0.435680</td>\n",
       "    </tr>\n",
       "    <tr>\n",
       "      <th>121958</th>\n",
       "      <td>0.051516</td>\n",
       "      <td>0.143959</td>\n",
       "      <td>0.121768</td>\n",
       "      <td>0.381244</td>\n",
       "      <td>0.216308</td>\n",
       "      <td>0.424282</td>\n",
       "    </tr>\n",
       "  </tbody>\n",
       "</table>\n",
       "<p>323432 rows × 6 columns</p>\n",
       "</div>"
      ],
      "text/plain": [
       "        GIDFNum1  GIDFDen1     GIDF1  GIDFDen11  GIDFDen21  xgbPreds\n",
       "352886  0.032346  0.084556  0.130171   0.205727   0.235446  0.552423\n",
       "134949  0.036089  0.097831  0.125526   0.257844   0.217348  0.439214\n",
       "168419  0.030776  0.087719  0.119384   0.267377   0.187935  0.505726\n",
       "402543  0.146482  0.261600  0.190537   0.453342   0.330559  0.718598\n",
       "13551   0.000000  0.069308  0.000000   0.207035   0.191767  0.001477\n",
       "98507   0.038445  0.111338  0.117499   0.273786   0.232954  0.419151\n",
       "114293  0.041311  0.096445  0.145756   0.275570   0.200486  0.571656\n",
       "184067  0.046987  0.100713  0.158754   0.363972   0.158510  0.604201\n",
       "27138   0.032861  0.079496  0.140661   0.207358   0.219615  0.527946\n",
       "199544  0.034263  0.101817  0.114510   0.295594   0.197316  0.353402\n",
       "387838  0.019811  0.052944  0.127327   0.231172   0.131195  0.421624\n",
       "185828  0.044655  0.158336  0.095968   0.314459   0.288438  0.367354\n",
       "370211  0.024748  0.048010  0.175403   0.215055   0.127885  0.592274\n",
       "227715  0.019815  0.159051  0.042392   0.268580   0.339236  0.002405\n",
       "378915  0.019139  0.166872  0.039027   0.311184   0.307187  0.003974\n",
       "162584  0.020017  0.070924  0.096039   0.353244   0.115015  0.052250\n",
       "31905   0.098056  0.150417  0.221825   0.295912   0.291186  0.633855\n",
       "39289   0.031665  0.062032  0.173702   0.245644   0.144659  0.490500\n",
       "188999  0.019882  0.032274  0.209624   0.161291   0.114626  0.536428\n",
       "279535  0.052227  0.155552  0.114250   0.345694   0.257763  0.458619\n",
       "386292  0.011914  0.022874  0.177237   0.147673   0.088734  0.611615\n",
       "133848  0.033776  0.059282  0.193874   0.227303   0.149403  0.681244\n",
       "370841  0.000000  0.354735  0.000000   0.579917   0.350409  0.000004\n",
       "183748  0.000000  0.106076  0.000000   0.380070   0.159878  0.000462\n",
       "10324   0.040197  0.099624  0.137298   0.277155   0.205909  0.541874\n",
       "214657  0.042272  0.091901  0.156519   0.277834   0.189483  0.543762\n",
       "355547  0.034083  0.073247  0.158337   0.279579   0.150079  0.487473\n",
       "85956   0.045047  0.105664  0.145066   0.273347   0.221438  0.632057\n",
       "129509  0.015047  0.092034  0.055633   0.280266   0.188112  0.687363\n",
       "371329  0.017459  0.038371  0.154823   0.151141   0.145433  0.603058\n",
       "...          ...       ...       ...        ...        ...       ...\n",
       "184779  0.015605  0.065547  0.081013   0.232210   0.161700  0.461510\n",
       "214176  0.023179  0.049574  0.159102   0.229451   0.123765  0.480126\n",
       "235796  0.000000  0.087250  0.000000   0.230507   0.216829  0.000598\n",
       "103355  0.055323  0.179825  0.104686   0.291534   0.353344  0.141210\n",
       "267455  0.000000  0.131748  0.000000   0.344354   0.219167  0.000191\n",
       "199041  0.028357  0.059399  0.162449   0.192624   0.176647  0.521317\n",
       "252709  0.016650  0.027027  0.209624   0.147598   0.104895  0.453306\n",
       "327069  0.042902  0.189491  0.077041   0.411743   0.263633  0.289508\n",
       "194027  0.105328  0.168119  0.213187   0.391141   0.246218  0.407240\n",
       "321879  0.002555  0.049733  0.017481   0.197557   0.144209  0.636831\n",
       "262913  0.011777  0.115821  0.034600   0.306043   0.216792  0.109607\n",
       "64820   0.057343  0.176464  0.110575   0.394867   0.256001  0.381578\n",
       "329365  0.051635  0.261082  0.067298   0.406735   0.367709  0.049884\n",
       "41090   0.020315  0.069385  0.099627   0.246084   0.161517  0.470011\n",
       "278167  0.036001  0.082704  0.148125   0.217039   0.218286  0.564948\n",
       "191335  0.063422  0.116646  0.185013   0.326389   0.204725  0.401223\n",
       "175203  0.053907  0.180254  0.101764   0.363299   0.284223  0.336673\n",
       "388468  0.067536  0.216052  0.106368   0.375461   0.329633  0.462833\n",
       "374871  0.019787  0.044194  0.152354   0.221391   0.114352  0.256568\n",
       "87498   0.105148  0.234794  0.152386   0.489280   0.274896  0.523303\n",
       "137337  0.023108  0.110207  0.071350   0.311832   0.202454  0.301184\n",
       "54886   0.018601  0.063457  0.099743   0.242037   0.150187  0.529326\n",
       "207892  0.057017  0.092554  0.209624   0.273137   0.194113  0.831878\n",
       "110268  0.032136  0.083581  0.130834   0.261991   0.182750  0.563431\n",
       "119879  0.017819  0.105781  0.057321   0.340925   0.177740  0.166311\n",
       "259178  0.019635  0.093465  0.071484   0.275115   0.194613  0.138357\n",
       "365838  0.093637  0.176994  0.180022   0.407585   0.248758  0.341866\n",
       "131932  0.036207  0.111991  0.110011   0.283858   0.226006  0.429132\n",
       "146867  0.038279  0.103218  0.126194   0.300512   0.196758  0.435680\n",
       "121958  0.051516  0.143959  0.121768   0.381244   0.216308  0.424282\n",
       "\n",
       "[323432 rows x 6 columns]"
      ]
     },
     "execution_count": 93,
     "metadata": {},
     "output_type": "execute_result"
    }
   ],
   "source": [
    "x_train"
   ]
  },
  {
   "cell_type": "code",
   "execution_count": 92,
   "metadata": {
    "collapsed": false,
    "scrolled": true
   },
   "outputs": [
    {
     "name": "stderr",
     "output_type": "stream",
     "text": [
      "C:\\Anaconda3\\lib\\site-packages\\ipykernel\\__main__.py:1: SettingWithCopyWarning: \n",
      "A value is trying to be set on a copy of a slice from a DataFrame.\n",
      "Try using .loc[row_indexer,col_indexer] = value instead\n",
      "\n",
      "See the caveats in the documentation: http://pandas.pydata.org/pandas-docs/stable/indexing.html#indexing-view-versus-copy\n",
      "  if __name__ == '__main__':\n"
     ]
    }
   ],
   "source": [
    "x_train['xgbPreds']=train['preds']"
   ]
  },
  {
   "cell_type": "code",
   "execution_count": 107,
   "metadata": {
    "collapsed": false
   },
   "outputs": [],
   "source": [
    "rf = RandomForestRegressor(n_estimators=15, max_depth=6, random_state=0)\n",
    "clf = BaggingRegressor(rf, n_estimators=45, max_samples=0.1, random_state=25)\n",
    "clf.fit(x_train, y_train)\n",
    "y_pred = clf.predict(x_valid)\n",
    "\n",
    "NV=pd.DataFrame()\n",
    "NV['preds']=y_pred\n",
    "NV['valid']=y_valid.values"
   ]
  },
  {
   "cell_type": "code",
   "execution_count": 108,
   "metadata": {
    "collapsed": false
   },
   "outputs": [
    {
     "name": "stdout",
     "output_type": "stream",
     "text": [
      "LogLoss Score (Train): 0.499851\n"
     ]
    }
   ],
   "source": [
    "print(\"LogLoss Score (Train): %f\" % metrics.log_loss(NV['valid'],NV['preds'].values))"
   ]
  },
  {
   "cell_type": "code",
   "execution_count": 109,
   "metadata": {
    "collapsed": false
   },
   "outputs": [
    {
     "name": "stderr",
     "output_type": "stream",
     "text": [
      "C:\\Anaconda3\\lib\\site-packages\\statsmodels\\nonparametric\\kdetools.py:20: VisibleDeprecationWarning: using a non-integer number instead of an integer will result in an error in the future\n",
      "  y = X[:m/2+1] + np.r_[0,X[m/2+1:],0]*1j\n"
     ]
    },
    {
     "data": {
      "text/plain": [
       "<matplotlib.axes._subplots.AxesSubplot at 0x350a7af4a8>"
      ]
     },
     "execution_count": 109,
     "metadata": {},
     "output_type": "execute_result"
    },
    {
     "data": {
      "image/png": "[encoded data removed]",
      "text/plain": [
       "<matplotlib.figure.Figure at 0x350a7a8470>"
      ]
     },
     "metadata": {},
     "output_type": "display_data"
    }
   ],
   "source": [
    "sns.distplot(NV.preds[0:2000])"
   ]
  },
  {
   "cell_type": "code",
   "execution_count": null,
   "metadata": {
    "collapsed": true
   },
   "outputs": [],
   "source": []
  }
 ],
 "metadata": {
  "kernelspec": {
   "display_name": "Python 3",
   "language": "python",
   "name": "python3"
  },
  "language_info": {
   "codemirror_mode": {
    "name": "ipython",
    "version": 3
   },
   "file_extension": ".py",
   "mimetype": "text/x-python",
   "name": "python",
   "nbconvert_exporter": "python",
   "pygments_lexer": "ipython3",
   "version": "3.5.1"
  }
 },
 "nbformat": 4,
 "nbformat_minor": 2
}
