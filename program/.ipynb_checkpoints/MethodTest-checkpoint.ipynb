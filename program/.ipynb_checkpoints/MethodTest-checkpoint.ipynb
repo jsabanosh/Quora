{
 "cells": [
  {
   "cell_type": "code",
   "execution_count": 1,
   "metadata": {
    "collapsed": false
   },
   "outputs": [
    {
     "name": "stderr",
     "output_type": "stream",
     "text": [
      "C:\\Anaconda3\\lib\\site-packages\\sklearn\\cross_validation.py:44: DeprecationWarning: This module was deprecated in version 0.18 in favor of the model_selection module into which all the refactored classes and functions are moved. Also note that the interface of the new CV iterators are different from that of this module. This module will be removed in 0.20.\n",
      "  \"This module will be removed in 0.20.\", DeprecationWarning)\n"
     ]
    }
   ],
   "source": [
    "import numpy as np # linear algebra\n",
    "import pandas as pd # data processing, CSV file I/O (e.g. pd.read_csv)\n",
    "import os\n",
    "import gc\n",
    "import matplotlib.pyplot as plt\n",
    "import seaborn as sns\n",
    "import string\n",
    "import time\n",
    "from sklearn import datasets, linear_model\n",
    "from sklearn import cross_validation, metrics\n",
    "from nltk.corpus import stopwords\n",
    "import timeit\n",
    "from xgboost.sklearn import XGBClassifier\n",
    "import xgboost as xgb\n",
    "from sklearn.feature_extraction.text import CountVectorizer\n",
    "from sklearn.feature_extraction.text import TfidfTransformer\n",
    "from sklearn.metrics.pairwise import cosine_similarity\n",
    "from scipy import sparse\n",
    "from nltk import ngrams\n",
    "%matplotlib inline\n",
    "%load_ext cython"
   ]
  },
  {
   "cell_type": "code",
   "execution_count": 2,
   "metadata": {
    "collapsed": true
   },
   "outputs": [],
   "source": [
    "#Run Attributes\n",
    "maxGram=5"
   ]
  },
  {
   "cell_type": "code",
   "execution_count": 3,
   "metadata": {
    "collapsed": true
   },
   "outputs": [],
   "source": [
    "train = pd.read_csv('../input/train.csv')\n",
    "test = pd.read_csv('../input/test.csv')\n",
    "sample = pd.read_csv('../input/sample_submission.csv')\n",
    "train=train.fillna('----')\n",
    "test=test.fillna('----')"
   ]
  },
  {
   "cell_type": "code",
   "execution_count": 4,
   "metadata": {
    "collapsed": true
   },
   "outputs": [],
   "source": [
    "stops=stopwords.words(\"english\")+['']\n",
    "strPunc=string.punctuation + '“”'"
   ]
  },
  {
   "cell_type": "code",
   "execution_count": 5,
   "metadata": {
    "collapsed": true
   },
   "outputs": [],
   "source": [
    "#######Setup Train Qs#######\n",
    "train_qs = pd.Series(train['question1'].tolist() + train['question2'].tolist()).astype(str)"
   ]
  },
  {
   "cell_type": "code",
   "execution_count": 6,
   "metadata": {
    "collapsed": false
   },
   "outputs": [
    {
     "name": "stdout",
     "output_type": "stream",
     "text": [
      "3 Minute(s), 11 Second(s).\n"
     ]
    }
   ],
   "source": [
    "start = time.time()\n",
    "\n",
    "counter=0\n",
    "gDict = {}\n",
    "for i in range(1,maxGram+1):\n",
    "    gDict[i]={}\n",
    "for row in train_qs:\n",
    "    question = row\n",
    "    question = question.lower()\n",
    "    question = ''.join([x for x in question if not x in strPunc]) #change this to RE with punc followed by whitespace\n",
    "    question = [x for x in question.split(' ') if x not in stops]\n",
    "    for i in range(1,maxGram+1):\n",
    "        for count in range(0,len(question)-(i-1)):\n",
    "            phrase = ' '.join(question[count:count+i])\n",
    "            if phrase in gDict[i]:\n",
    "                gDict[i][phrase] = gDict[i][phrase] + 1\n",
    "            else:\n",
    "                gDict[i][phrase] = 1\n",
    "\n",
    "                \n",
    "#print(counter)\n",
    "duration = time.time() - start\n",
    "print(str(int(duration//60)) + \" Minute(s), \" + str(int(duration%60)) + \" Second(s).\")"
   ]
  },
  {
   "cell_type": "code",
   "execution_count": 7,
   "metadata": {
    "collapsed": true
   },
   "outputs": [],
   "source": [
    "weights={}\n",
    "for i in range(1,maxGram+1):\n",
    "    weights[i] = dict((k, 1/np.log(v)) for k, v in gDict[i].items() if v>1)"
   ]
  },
  {
   "cell_type": "code",
   "execution_count": 8,
   "metadata": {
    "collapsed": true
   },
   "outputs": [],
   "source": [
    "def genGramTFIDF(a,b,g=1): #WIP\n",
    "    a,b=a.lower(),b.lower()\n",
    "    a=''.join([x for x in a if not x in strPunc])\n",
    "    b=''.join([x for x in b if not x in strPunc])\n",
    "    a,b=a.split(),b.split()\n",
    "    a=[x for x in a if x not in stops]\n",
    "    b=[x for x in b if x not in stops]\n",
    "    a=[' '.join(a[i:i+g]) for i in range(len(a)-g+1)]\n",
    "    b=[' '.join(b[i:i+g]) for i in range(len(b)-g+1)]\n",
    "    #a=list(set(a))\n",
    "    #b=list(set(b))\n",
    "    num=np.sum([b.count(x)*weights[g].get(x,0)**2 for x in a if x in b])\n",
    "    den = (np.linalg.norm(np.array([weights[g].get(x,0) for x in a]))*\n",
    "        np.linalg.norm(np.array([weights[g].get(x,0) for x in b]))\n",
    "       )\n",
    "    return num,den,num/den"
   ]
  },
  {
   "cell_type": "code",
   "execution_count": 9,
   "metadata": {
    "collapsed": false
   },
   "outputs": [
    {
     "name": "stderr",
     "output_type": "stream",
     "text": [
      "C:\\Anaconda3\\lib\\site-packages\\ipykernel\\__main__.py:16: RuntimeWarning: invalid value encountered in double_scalars\n"
     ]
    },
    {
     "name": "stdout",
     "output_type": "stream",
     "text": [
      "1\n",
      "2\n",
      "3\n",
      "4\n",
      "5\n",
      "16 Minute(s), 3 Second(s).\n"
     ]
    }
   ],
   "source": [
    "start = time.time()\n",
    "for i in range(1,maxGram+1):\n",
    "    (train['GIDFNum'+str(i)],train['GIDFDen'+str(i)],train['GIDF'+str(i)])= \\\n",
    "    zip(*train.apply(lambda row: genGramTFIDF(row['question1'],row['question2'],i),axis=1))\n",
    "    print(i)\n",
    "duration = time.time() - start\n",
    "print(str(int(duration//60)) + \" Minute(s), \" + str(int(duration%60)) + \" Second(s).\")"
   ]
  },
  {
   "cell_type": "code",
   "execution_count": 32,
   "metadata": {
    "collapsed": true
   },
   "outputs": [],
   "source": [
    "target='is_duplicate'\n",
    "predictors = [x for x in list(train) if x not in ['id','qid1','qid2','question1','question2','is_duplicate','rdSimPct']]"
   ]
  },
  {
   "cell_type": "code",
   "execution_count": null,
   "metadata": {
    "collapsed": true
   },
   "outputs": [],
   "source": []
  },
  {
   "cell_type": "code",
   "execution_count": null,
   "metadata": {
    "collapsed": false
   },
   "outputs": [
    {
     "name": "stdout",
     "output_type": "stream",
     "text": [
      "[0]\ttrain-logloss:0.68362\tvalid-logloss:0.683973\n",
      "Multiple eval metrics have been passed: 'valid-logloss' will be used for early stopping.\n",
      "\n",
      "Will train until valid-logloss hasn't improved in 50 rounds.\n",
      "[10]\ttrain-logloss:0.606087\tvalid-logloss:0.609562\n",
      "[20]\ttrain-logloss:0.551842\tvalid-logloss:0.557846\n",
      "[30]\ttrain-logloss:0.512786\tvalid-logloss:0.520945\n",
      "[40]\ttrain-logloss:0.484138\tvalid-logloss:0.49416\n",
      "[50]\ttrain-logloss:0.462859\tvalid-logloss:0.474488\n",
      "[60]\ttrain-logloss:0.446911\tvalid-logloss:0.459975\n",
      "[70]\ttrain-logloss:0.434885\tvalid-logloss:0.449195\n",
      "[80]\ttrain-logloss:0.425774\tvalid-logloss:0.441157\n",
      "[90]\ttrain-logloss:0.418849\tvalid-logloss:0.435159\n",
      "[100]\ttrain-logloss:0.413571\tvalid-logloss:0.430712\n",
      "[110]\ttrain-logloss:0.409543\tvalid-logloss:0.427407\n",
      "[120]\ttrain-logloss:0.406457\tvalid-logloss:0.42499\n",
      "[130]\ttrain-logloss:0.404081\tvalid-logloss:0.423187\n",
      "[140]\ttrain-logloss:0.402253\tvalid-logloss:0.421867\n",
      "[150]\ttrain-logloss:0.400843\tvalid-logloss:0.420881\n",
      "[160]\ttrain-logloss:0.399746\tvalid-logloss:0.420161\n",
      "[170]\ttrain-logloss:0.398868\tvalid-logloss:0.419638\n",
      "[180]\ttrain-logloss:0.398177\tvalid-logloss:0.41926\n"
     ]
    }
   ],
   "source": [
    "from sklearn.cross_validation import train_test_split\n",
    "\n",
    "x_train, x_valid, y_train, y_valid = train_test_split(train[predictors], train[target], test_size=0.2, random_state=4242)\n",
    "\n",
    "# Set our parameters for xgboost\n",
    "params = {}\n",
    "params['objective'] = 'binary:logistic'\n",
    "params['eval_metric'] = 'logloss'\n",
    "params['eta'] = 0.02\n",
    "params['max_depth'] = 4\n",
    "\n",
    "d_train = xgb.DMatrix(x_train, label=y_train)\n",
    "d_valid = xgb.DMatrix(x_valid, label=y_valid)\n",
    "\n",
    "watchlist = [(d_train, 'train'), (d_valid, 'valid')]\n",
    "\n",
    "bst = xgb.train(params, d_train, 300, watchlist, early_stopping_rounds=50, verbose_eval=10)"
   ]
  },
  {
   "cell_type": "code",
   "execution_count": 12,
   "metadata": {
    "collapsed": false
   },
   "outputs": [
    {
     "data": {
      "image/png": "[encoded data removed]",
      "text/plain": [
       "<matplotlib.figure.Figure at 0x1b2615ddd8>"
      ]
     },
     "metadata": {},
     "output_type": "display_data"
    }
   ],
   "source": [
    "plt.rcParams['figure.figsize'] = (12.0, 15.0)\n",
    "xgb.plot_importance(bst); plt.show()"
   ]
  },
  {
   "cell_type": "code",
   "execution_count": 13,
   "metadata": {
    "collapsed": true
   },
   "outputs": [],
   "source": [
    "#1TFIDF .517835\n",
    "\n",
    "\n",
    "\n",
    "#TFIDF on 5: 0.418284"
   ]
  },
  {
   "cell_type": "code",
   "execution_count": 23,
   "metadata": {
    "collapsed": false
   },
   "outputs": [],
   "source": [
    "d_train = xgb.DMatrix(train[predictors], label=y_train)\n",
    "train['preds']=bst.predict(d_train)"
   ]
  },
  {
   "cell_type": "code",
   "execution_count": 25,
   "metadata": {
    "collapsed": false,
    "scrolled": true
   },
   "outputs": [
    {
     "data": {
      "text/html": [
       "<div>\n",
       "<table border=\"1\" class=\"dataframe\">\n",
       "  <thead>\n",
       "    <tr style=\"text-align: right;\">\n",
       "      <th></th>\n",
       "      <th>preds</th>\n",
       "      <th>is_duplicate</th>\n",
       "    </tr>\n",
       "  </thead>\n",
       "  <tbody>\n",
       "    <tr>\n",
       "      <th>0</th>\n",
       "      <td>0.650985</td>\n",
       "      <td>0</td>\n",
       "    </tr>\n",
       "    <tr>\n",
       "      <th>1</th>\n",
       "      <td>0.362433</td>\n",
       "      <td>0</td>\n",
       "    </tr>\n",
       "    <tr>\n",
       "      <th>2</th>\n",
       "      <td>0.054703</td>\n",
       "      <td>0</td>\n",
       "    </tr>\n",
       "    <tr>\n",
       "      <th>3</th>\n",
       "      <td>0.003403</td>\n",
       "      <td>0</td>\n",
       "    </tr>\n",
       "    <tr>\n",
       "      <th>4</th>\n",
       "      <td>0.139403</td>\n",
       "      <td>0</td>\n",
       "    </tr>\n",
       "    <tr>\n",
       "      <th>5</th>\n",
       "      <td>0.273137</td>\n",
       "      <td>1</td>\n",
       "    </tr>\n",
       "    <tr>\n",
       "      <th>6</th>\n",
       "      <td>0.000391</td>\n",
       "      <td>0</td>\n",
       "    </tr>\n",
       "    <tr>\n",
       "      <th>7</th>\n",
       "      <td>0.303759</td>\n",
       "      <td>1</td>\n",
       "    </tr>\n",
       "    <tr>\n",
       "      <th>8</th>\n",
       "      <td>0.034000</td>\n",
       "      <td>0</td>\n",
       "    </tr>\n",
       "    <tr>\n",
       "      <th>9</th>\n",
       "      <td>0.417663</td>\n",
       "      <td>0</td>\n",
       "    </tr>\n",
       "    <tr>\n",
       "      <th>10</th>\n",
       "      <td>0.000671</td>\n",
       "      <td>0</td>\n",
       "    </tr>\n",
       "    <tr>\n",
       "      <th>11</th>\n",
       "      <td>0.343726</td>\n",
       "      <td>1</td>\n",
       "    </tr>\n",
       "    <tr>\n",
       "      <th>12</th>\n",
       "      <td>0.774838</td>\n",
       "      <td>1</td>\n",
       "    </tr>\n",
       "    <tr>\n",
       "      <th>13</th>\n",
       "      <td>0.738174</td>\n",
       "      <td>1</td>\n",
       "    </tr>\n",
       "    <tr>\n",
       "      <th>14</th>\n",
       "      <td>0.482438</td>\n",
       "      <td>0</td>\n",
       "    </tr>\n",
       "    <tr>\n",
       "      <th>15</th>\n",
       "      <td>0.901477</td>\n",
       "      <td>1</td>\n",
       "    </tr>\n",
       "    <tr>\n",
       "      <th>16</th>\n",
       "      <td>0.305745</td>\n",
       "      <td>1</td>\n",
       "    </tr>\n",
       "    <tr>\n",
       "      <th>17</th>\n",
       "      <td>0.000619</td>\n",
       "      <td>0</td>\n",
       "    </tr>\n",
       "    <tr>\n",
       "      <th>18</th>\n",
       "      <td>0.980604</td>\n",
       "      <td>1</td>\n",
       "    </tr>\n",
       "    <tr>\n",
       "      <th>19</th>\n",
       "      <td>0.242969</td>\n",
       "      <td>0</td>\n",
       "    </tr>\n",
       "    <tr>\n",
       "      <th>20</th>\n",
       "      <td>0.129291</td>\n",
       "      <td>1</td>\n",
       "    </tr>\n",
       "    <tr>\n",
       "      <th>21</th>\n",
       "      <td>0.319084</td>\n",
       "      <td>0</td>\n",
       "    </tr>\n",
       "    <tr>\n",
       "      <th>22</th>\n",
       "      <td>0.831618</td>\n",
       "      <td>0</td>\n",
       "    </tr>\n",
       "    <tr>\n",
       "      <th>23</th>\n",
       "      <td>0.000764</td>\n",
       "      <td>0</td>\n",
       "    </tr>\n",
       "    <tr>\n",
       "      <th>24</th>\n",
       "      <td>0.000275</td>\n",
       "      <td>0</td>\n",
       "    </tr>\n",
       "    <tr>\n",
       "      <th>25</th>\n",
       "      <td>0.019703</td>\n",
       "      <td>0</td>\n",
       "    </tr>\n",
       "    <tr>\n",
       "      <th>26</th>\n",
       "      <td>0.432271</td>\n",
       "      <td>0</td>\n",
       "    </tr>\n",
       "    <tr>\n",
       "      <th>27</th>\n",
       "      <td>0.254601</td>\n",
       "      <td>0</td>\n",
       "    </tr>\n",
       "    <tr>\n",
       "      <th>28</th>\n",
       "      <td>0.823989</td>\n",
       "      <td>0</td>\n",
       "    </tr>\n",
       "    <tr>\n",
       "      <th>29</th>\n",
       "      <td>0.820150</td>\n",
       "      <td>1</td>\n",
       "    </tr>\n",
       "    <tr>\n",
       "      <th>...</th>\n",
       "      <td>...</td>\n",
       "      <td>...</td>\n",
       "    </tr>\n",
       "    <tr>\n",
       "      <th>404260</th>\n",
       "      <td>0.695182</td>\n",
       "      <td>0</td>\n",
       "    </tr>\n",
       "    <tr>\n",
       "      <th>404261</th>\n",
       "      <td>0.778924</td>\n",
       "      <td>1</td>\n",
       "    </tr>\n",
       "    <tr>\n",
       "      <th>404262</th>\n",
       "      <td>0.205260</td>\n",
       "      <td>0</td>\n",
       "    </tr>\n",
       "    <tr>\n",
       "      <th>404263</th>\n",
       "      <td>0.151505</td>\n",
       "      <td>0</td>\n",
       "    </tr>\n",
       "    <tr>\n",
       "      <th>404264</th>\n",
       "      <td>0.106467</td>\n",
       "      <td>0</td>\n",
       "    </tr>\n",
       "    <tr>\n",
       "      <th>404265</th>\n",
       "      <td>0.870579</td>\n",
       "      <td>1</td>\n",
       "    </tr>\n",
       "    <tr>\n",
       "      <th>404266</th>\n",
       "      <td>0.512631</td>\n",
       "      <td>0</td>\n",
       "    </tr>\n",
       "    <tr>\n",
       "      <th>404267</th>\n",
       "      <td>0.816924</td>\n",
       "      <td>1</td>\n",
       "    </tr>\n",
       "    <tr>\n",
       "      <th>404268</th>\n",
       "      <td>0.119024</td>\n",
       "      <td>0</td>\n",
       "    </tr>\n",
       "    <tr>\n",
       "      <th>404269</th>\n",
       "      <td>0.370141</td>\n",
       "      <td>0</td>\n",
       "    </tr>\n",
       "    <tr>\n",
       "      <th>404270</th>\n",
       "      <td>0.128816</td>\n",
       "      <td>0</td>\n",
       "    </tr>\n",
       "    <tr>\n",
       "      <th>404271</th>\n",
       "      <td>0.000534</td>\n",
       "      <td>0</td>\n",
       "    </tr>\n",
       "    <tr>\n",
       "      <th>404272</th>\n",
       "      <td>0.868368</td>\n",
       "      <td>1</td>\n",
       "    </tr>\n",
       "    <tr>\n",
       "      <th>404273</th>\n",
       "      <td>0.232611</td>\n",
       "      <td>1</td>\n",
       "    </tr>\n",
       "    <tr>\n",
       "      <th>404274</th>\n",
       "      <td>0.752848</td>\n",
       "      <td>1</td>\n",
       "    </tr>\n",
       "    <tr>\n",
       "      <th>404275</th>\n",
       "      <td>0.039067</td>\n",
       "      <td>0</td>\n",
       "    </tr>\n",
       "    <tr>\n",
       "      <th>404276</th>\n",
       "      <td>0.000942</td>\n",
       "      <td>0</td>\n",
       "    </tr>\n",
       "    <tr>\n",
       "      <th>404277</th>\n",
       "      <td>0.034599</td>\n",
       "      <td>0</td>\n",
       "    </tr>\n",
       "    <tr>\n",
       "      <th>404278</th>\n",
       "      <td>0.279619</td>\n",
       "      <td>0</td>\n",
       "    </tr>\n",
       "    <tr>\n",
       "      <th>404279</th>\n",
       "      <td>0.103229</td>\n",
       "      <td>0</td>\n",
       "    </tr>\n",
       "    <tr>\n",
       "      <th>404280</th>\n",
       "      <td>0.533892</td>\n",
       "      <td>1</td>\n",
       "    </tr>\n",
       "    <tr>\n",
       "      <th>404281</th>\n",
       "      <td>0.974626</td>\n",
       "      <td>1</td>\n",
       "    </tr>\n",
       "    <tr>\n",
       "      <th>404282</th>\n",
       "      <td>0.963691</td>\n",
       "      <td>1</td>\n",
       "    </tr>\n",
       "    <tr>\n",
       "      <th>404283</th>\n",
       "      <td>0.116862</td>\n",
       "      <td>0</td>\n",
       "    </tr>\n",
       "    <tr>\n",
       "      <th>404284</th>\n",
       "      <td>0.491117</td>\n",
       "      <td>1</td>\n",
       "    </tr>\n",
       "    <tr>\n",
       "      <th>404285</th>\n",
       "      <td>0.091034</td>\n",
       "      <td>0</td>\n",
       "    </tr>\n",
       "    <tr>\n",
       "      <th>404286</th>\n",
       "      <td>0.928338</td>\n",
       "      <td>1</td>\n",
       "    </tr>\n",
       "    <tr>\n",
       "      <th>404287</th>\n",
       "      <td>0.288925</td>\n",
       "      <td>0</td>\n",
       "    </tr>\n",
       "    <tr>\n",
       "      <th>404288</th>\n",
       "      <td>0.000205</td>\n",
       "      <td>0</td>\n",
       "    </tr>\n",
       "    <tr>\n",
       "      <th>404289</th>\n",
       "      <td>0.760008</td>\n",
       "      <td>0</td>\n",
       "    </tr>\n",
       "  </tbody>\n",
       "</table>\n",
       "<p>404290 rows × 2 columns</p>\n",
       "</div>"
      ],
      "text/plain": [
       "           preds  is_duplicate\n",
       "0       0.650985             0\n",
       "1       0.362433             0\n",
       "2       0.054703             0\n",
       "3       0.003403             0\n",
       "4       0.139403             0\n",
       "5       0.273137             1\n",
       "6       0.000391             0\n",
       "7       0.303759             1\n",
       "8       0.034000             0\n",
       "9       0.417663             0\n",
       "10      0.000671             0\n",
       "11      0.343726             1\n",
       "12      0.774838             1\n",
       "13      0.738174             1\n",
       "14      0.482438             0\n",
       "15      0.901477             1\n",
       "16      0.305745             1\n",
       "17      0.000619             0\n",
       "18      0.980604             1\n",
       "19      0.242969             0\n",
       "20      0.129291             1\n",
       "21      0.319084             0\n",
       "22      0.831618             0\n",
       "23      0.000764             0\n",
       "24      0.000275             0\n",
       "25      0.019703             0\n",
       "26      0.432271             0\n",
       "27      0.254601             0\n",
       "28      0.823989             0\n",
       "29      0.820150             1\n",
       "...          ...           ...\n",
       "404260  0.695182             0\n",
       "404261  0.778924             1\n",
       "404262  0.205260             0\n",
       "404263  0.151505             0\n",
       "404264  0.106467             0\n",
       "404265  0.870579             1\n",
       "404266  0.512631             0\n",
       "404267  0.816924             1\n",
       "404268  0.119024             0\n",
       "404269  0.370141             0\n",
       "404270  0.128816             0\n",
       "404271  0.000534             0\n",
       "404272  0.868368             1\n",
       "404273  0.232611             1\n",
       "404274  0.752848             1\n",
       "404275  0.039067             0\n",
       "404276  0.000942             0\n",
       "404277  0.034599             0\n",
       "404278  0.279619             0\n",
       "404279  0.103229             0\n",
       "404280  0.533892             1\n",
       "404281  0.974626             1\n",
       "404282  0.963691             1\n",
       "404283  0.116862             0\n",
       "404284  0.491117             1\n",
       "404285  0.091034             0\n",
       "404286  0.928338             1\n",
       "404287  0.288925             0\n",
       "404288  0.000205             0\n",
       "404289  0.760008             0\n",
       "\n",
       "[404290 rows x 2 columns]"
      ]
     },
     "execution_count": 25,
     "metadata": {},
     "output_type": "execute_result"
    }
   ],
   "source": [
    "train[['preds','is_duplicate']]"
   ]
  },
  {
   "cell_type": "code",
   "execution_count": 31,
   "metadata": {
    "collapsed": false
   },
   "outputs": [
    {
     "data": {
      "text/plain": [
       "'Astrology: I am a Capricorn Sun Cap moon and cap rising...what does that say about me?'"
      ]
     },
     "execution_count": 31,
     "metadata": {},
     "output_type": "execute_result"
    }
   ],
   "source": [
    "train.loc[5,'question1']"
   ]
  },
  {
   "cell_type": "code",
   "execution_count": null,
   "metadata": {
    "collapsed": true
   },
   "outputs": [],
   "source": []
  }
 ],
 "metadata": {
  "kernelspec": {
   "display_name": "Python 3",
   "language": "python",
   "name": "python3"
  },
  "language_info": {
   "codemirror_mode": {
    "name": "ipython",
    "version": 3
   },
   "file_extension": ".py",
   "mimetype": "text/x-python",
   "name": "python",
   "nbconvert_exporter": "python",
   "pygments_lexer": "ipython3",
   "version": "3.5.1"
  }
 },
 "nbformat": 4,
 "nbformat_minor": 2
}
