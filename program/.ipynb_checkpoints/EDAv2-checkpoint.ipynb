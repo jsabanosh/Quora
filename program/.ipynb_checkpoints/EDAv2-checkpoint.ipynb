{
 "cells": [
  {
   "cell_type": "code",
   "execution_count": 1,
   "metadata": {},
   "outputs": [
    {
     "name": "stderr",
     "output_type": "stream",
     "text": [
      "C:\\Anaconda3\\lib\\site-packages\\sklearn\\cross_validation.py:44: DeprecationWarning: This module was deprecated in version 0.18 in favor of the model_selection module into which all the refactored classes and functions are moved. Also note that the interface of the new CV iterators are different from that of this module. This module will be removed in 0.20.\n",
      "  \"This module will be removed in 0.20.\", DeprecationWarning)\n"
     ]
    }
   ],
   "source": [
    "import numpy as np # linear algebra\n",
    "import pandas as pd # data processing, CSV file I/O (e.g. pd.read_csv)\n",
    "import os\n",
    "import gc\n",
    "import matplotlib.pyplot as plt\n",
    "import seaborn as sns\n",
    "import string\n",
    "import time\n",
    "from sklearn import datasets, linear_model\n",
    "from sklearn import cross_validation, metrics\n",
    "from nltk.corpus import stopwords\n",
    "import timeit\n",
    "from xgboost.sklearn import XGBClassifier\n",
    "import xgboost as xgb\n",
    "from sklearn.feature_extraction.text import CountVectorizer\n",
    "from sklearn.feature_extraction.text import TfidfTransformer\n",
    "from sklearn.metrics.pairwise import cosine_similarity\n",
    "from scipy import sparse\n",
    "from nltk import ngrams\n",
    "%matplotlib inline\n",
    "%load_ext cython"
   ]
  },
  {
   "cell_type": "code",
   "execution_count": 2,
   "metadata": {},
   "outputs": [],
   "source": [
    "train = pd.read_csv('../input/train.csv')\n",
    "test = pd.read_csv('../input/test.csv')\n",
    "sample = pd.read_csv('../input/sample_submission.csv')"
   ]
  },
  {
   "cell_type": "code",
   "execution_count": 3,
   "metadata": {},
   "outputs": [
    {
     "data": {
      "text/html": [
       "<div>\n",
       "<table border=\"1\" class=\"dataframe\">\n",
       "  <thead>\n",
       "    <tr style=\"text-align: right;\">\n",
       "      <th></th>\n",
       "      <th>id</th>\n",
       "      <th>qid1</th>\n",
       "      <th>qid2</th>\n",
       "      <th>question1</th>\n",
       "      <th>question2</th>\n",
       "      <th>is_duplicate</th>\n",
       "    </tr>\n",
       "  </thead>\n",
       "  <tbody>\n",
       "    <tr>\n",
       "      <th>0</th>\n",
       "      <td>0</td>\n",
       "      <td>1</td>\n",
       "      <td>2</td>\n",
       "      <td>What is the step by step guide to invest in sh...</td>\n",
       "      <td>What is the step by step guide to invest in sh...</td>\n",
       "      <td>0</td>\n",
       "    </tr>\n",
       "    <tr>\n",
       "      <th>1</th>\n",
       "      <td>1</td>\n",
       "      <td>3</td>\n",
       "      <td>4</td>\n",
       "      <td>What is the story of Kohinoor (Koh-i-Noor) Dia...</td>\n",
       "      <td>What would happen if the Indian government sto...</td>\n",
       "      <td>0</td>\n",
       "    </tr>\n",
       "    <tr>\n",
       "      <th>2</th>\n",
       "      <td>2</td>\n",
       "      <td>5</td>\n",
       "      <td>6</td>\n",
       "      <td>How can I increase the speed of my internet co...</td>\n",
       "      <td>How can Internet speed be increased by hacking...</td>\n",
       "      <td>0</td>\n",
       "    </tr>\n",
       "    <tr>\n",
       "      <th>3</th>\n",
       "      <td>3</td>\n",
       "      <td>7</td>\n",
       "      <td>8</td>\n",
       "      <td>Why am I mentally very lonely? How can I solve...</td>\n",
       "      <td>Find the remainder when [math]23^{24}[/math] i...</td>\n",
       "      <td>0</td>\n",
       "    </tr>\n",
       "    <tr>\n",
       "      <th>4</th>\n",
       "      <td>4</td>\n",
       "      <td>9</td>\n",
       "      <td>10</td>\n",
       "      <td>Which one dissolve in water quikly sugar, salt...</td>\n",
       "      <td>Which fish would survive in salt water?</td>\n",
       "      <td>0</td>\n",
       "    </tr>\n",
       "  </tbody>\n",
       "</table>\n",
       "</div>"
      ],
      "text/plain": [
       "   id  qid1  qid2                                          question1  \\\n",
       "0   0     1     2  What is the step by step guide to invest in sh...   \n",
       "1   1     3     4  What is the story of Kohinoor (Koh-i-Noor) Dia...   \n",
       "2   2     5     6  How can I increase the speed of my internet co...   \n",
       "3   3     7     8  Why am I mentally very lonely? How can I solve...   \n",
       "4   4     9    10  Which one dissolve in water quikly sugar, salt...   \n",
       "\n",
       "                                           question2  is_duplicate  \n",
       "0  What is the step by step guide to invest in sh...             0  \n",
       "1  What would happen if the Indian government sto...             0  \n",
       "2  How can Internet speed be increased by hacking...             0  \n",
       "3  Find the remainder when [math]23^{24}[/math] i...             0  \n",
       "4            Which fish would survive in salt water?             0  "
      ]
     },
     "execution_count": 3,
     "metadata": {},
     "output_type": "execute_result"
    }
   ],
   "source": [
    "train.head()"
   ]
  },
  {
   "cell_type": "code",
   "execution_count": 4,
   "metadata": {},
   "outputs": [
    {
     "data": {
      "text/html": [
       "<div>\n",
       "<table border=\"1\" class=\"dataframe\">\n",
       "  <thead>\n",
       "    <tr style=\"text-align: right;\">\n",
       "      <th></th>\n",
       "      <th>test_id</th>\n",
       "      <th>question1</th>\n",
       "      <th>question2</th>\n",
       "    </tr>\n",
       "  </thead>\n",
       "  <tbody>\n",
       "    <tr>\n",
       "      <th>0</th>\n",
       "      <td>0</td>\n",
       "      <td>How does the Surface Pro himself 4 compare wit...</td>\n",
       "      <td>Why did Microsoft choose core m3 and not core ...</td>\n",
       "    </tr>\n",
       "    <tr>\n",
       "      <th>1</th>\n",
       "      <td>1</td>\n",
       "      <td>Should I have a hair transplant at age 24? How...</td>\n",
       "      <td>How much cost does hair transplant require?</td>\n",
       "    </tr>\n",
       "    <tr>\n",
       "      <th>2</th>\n",
       "      <td>2</td>\n",
       "      <td>What but is the best way to send money from Ch...</td>\n",
       "      <td>What you send money to China?</td>\n",
       "    </tr>\n",
       "    <tr>\n",
       "      <th>3</th>\n",
       "      <td>3</td>\n",
       "      <td>Which food not emulsifiers?</td>\n",
       "      <td>What foods fibre?</td>\n",
       "    </tr>\n",
       "    <tr>\n",
       "      <th>4</th>\n",
       "      <td>4</td>\n",
       "      <td>How \"aberystwyth\" start reading?</td>\n",
       "      <td>How their can I start reading?</td>\n",
       "    </tr>\n",
       "  </tbody>\n",
       "</table>\n",
       "</div>"
      ],
      "text/plain": [
       "   test_id                                          question1  \\\n",
       "0        0  How does the Surface Pro himself 4 compare wit...   \n",
       "1        1  Should I have a hair transplant at age 24? How...   \n",
       "2        2  What but is the best way to send money from Ch...   \n",
       "3        3                        Which food not emulsifiers?   \n",
       "4        4                   How \"aberystwyth\" start reading?   \n",
       "\n",
       "                                           question2  \n",
       "0  Why did Microsoft choose core m3 and not core ...  \n",
       "1        How much cost does hair transplant require?  \n",
       "2                      What you send money to China?  \n",
       "3                                  What foods fibre?  \n",
       "4                     How their can I start reading?  "
      ]
     },
     "execution_count": 4,
     "metadata": {},
     "output_type": "execute_result"
    }
   ],
   "source": [
    "test.head()"
   ]
  },
  {
   "cell_type": "code",
   "execution_count": 6,
   "metadata": {
    "collapsed": true
   },
   "outputs": [],
   "source": [
    "#############Prep Train#####################\n",
    "train=train.fillna('----')\n",
    "test=test.fillna('----')"
   ]
  },
  {
   "cell_type": "code",
   "execution_count": 7,
   "metadata": {},
   "outputs": [],
   "source": [
    "stops=stopwords.words(\"english\")\n",
    "stops = stops + ['']\n",
    "strPunc=string.punctuation\n",
    "strPunc =strPunc + '“”'\n",
    "def simPct(a, b):\n",
    "    countEq=0\n",
    "    countTot=0.0000001\n",
    "    a=a.lower()\n",
    "    b=b.lower()\n",
    "    a = ''.join([x for x in a if not x in strPunc])\n",
    "    b = ''.join([x for x in b if not x in strPunc])\n",
    "    a = [x for x in a.split(' ') if x not in stops]\n",
    "    b = [x for x in b.split(' ') if x not in stops]\n",
    "    for x in a:\n",
    "        if x in b:\n",
    "            countEq = countEq + 1\n",
    "        countTot=countTot+1\n",
    "    return countEq/countTot"
   ]
  },
  {
   "cell_type": "code",
   "execution_count": 8,
   "metadata": {},
   "outputs": [
    {
     "data": {
      "text/plain": [
       "1.0797730330371509"
      ]
     },
     "execution_count": 8,
     "metadata": {},
     "output_type": "execute_result"
    }
   ],
   "source": [
    "n = 10000\n",
    "timeit.timeit('simPct(\"This is a test of a the way that the new thing does stuff. cars\",\"Why does this need to happen like this in this way without having cars made of stell object and other pipes\")',number=n, globals=globals())"
   ]
  },
  {
   "cell_type": "code",
   "execution_count": 9,
   "metadata": {},
   "outputs": [],
   "source": [
    "def pctLikelihood(pct):\n",
    "    sz0=train[(train['is_duplicate']==0) & (train['simPct']>pct-0.05) & (train['simPct']<pct+0.05)].shape[0]\n",
    "    sz1=train[(train['is_duplicate']==1) & (train['simPct']>pct-0.05) & (train['simPct']<pct+0.05)].shape[0]\n",
    "    return sz1/(sz0+sz1)"
   ]
  },
  {
   "cell_type": "code",
   "execution_count": 10,
   "metadata": {},
   "outputs": [
    {
     "name": "stdout",
     "output_type": "stream",
     "text": [
      "0 Minute(s), 41 Second(s).\n"
     ]
    }
   ],
   "source": [
    "start = time.time()\n",
    "train['simPct'] = train.apply(lambda row: \n",
    "                              simPct(row['question1'],row['question2'])\n",
    "                              ,axis=1)\n",
    "duration = time.time() - start\n",
    "print(str(int(duration//60)) + \" Minute(s), \" + str(int(duration%60)) + \" Second(s).\")"
   ]
  },
  {
   "cell_type": "code",
   "execution_count": 12,
   "metadata": {},
   "outputs": [],
   "source": [
    "likelihood = pd.DataFrame(columns = {'rdSimPct': [], 'likelihood':[]})\n",
    "likelihood['rdSimPct']=np.arange(0,1.01,0.01)\n",
    "likelihood['likelihood']=likelihood.apply(lambda row: pctLikelihood(row['rdSimPct']) ,axis=1)\n",
    "likelihood['rdSimPct']=likelihood.apply(lambda row: \"{0:.2f}\".format(row['rdSimPct']),axis=1)"
   ]
  },
  {
   "cell_type": "code",
   "execution_count": 13,
   "metadata": {
    "scrolled": true
   },
   "outputs": [
    {
     "name": "stdout",
     "output_type": "stream",
     "text": [
      "0 Minute(s), 8 Second(s).\n"
     ]
    }
   ],
   "source": [
    "start = time.time()\n",
    "train['rdSimPct'] = train.apply(lambda row:\n",
    "                              \"{0:.2f}\".format(row['simPct'])\n",
    "                             ,axis=1)\n",
    "duration = time.time() - start\n",
    "print(str(int(duration//60)) + \" Minute(s), \" + str(int(duration%60)) + \" Second(s).\")"
   ]
  },
  {
   "cell_type": "code",
   "execution_count": 14,
   "metadata": {
    "scrolled": true
   },
   "outputs": [
    {
     "data": {
      "image/png": "[encoded data removed]",
      "text/plain": [
       "<matplotlib.figure.Figure at 0x31b64ae630>"
      ]
     },
     "metadata": {},
     "output_type": "display_data"
    }
   ],
   "source": [
    "plt.figure(1)\n",
    "train['simPct'][train['is_duplicate']==0].hist(alpha=0.6)\n",
    "train['simPct'][train['is_duplicate']==1].hist(alpha=0.6)\n",
    "plt.show()"
   ]
  },
  {
   "cell_type": "code",
   "execution_count": 15,
   "metadata": {},
   "outputs": [],
   "source": [
    "regr = linear_model.LinearRegression()\n",
    "\n",
    "def seriesRegr(X_Series, Y_Series, plot=False):\n",
    "    npX = X_Series.as_matrix()[:, np.newaxis]\n",
    "    npY = Y_Series.as_matrix()\n",
    "    regr.fit(npX, npY)\n",
    "    if plot:\n",
    "        # The coefficients\n",
    "        print('Coefficients: \\n', regr.coef_)\n",
    "        # The mean squared error\n",
    "        print(\"Mean squared error: %.2f\"\n",
    "              % np.mean((regr.predict(npX) - npY) ** 2))\n",
    "        # Explained variance score: 1 is perfect prediction\n",
    "        print('Variance score: %.2f' % regr.score(npX, npY))\n",
    "\n",
    "        # Plot outputs\n",
    "        plt.scatter(npX, npY,  color='black')\n",
    "        plt.plot(npX, regr.predict(npX), color='blue',\n",
    "                 linewidth=3)\n",
    "\n",
    "        plt.xticks(())\n",
    "        plt.yticks(())\n",
    "\n",
    "        plt.show()\n",
    "    return [regr.coef_[0],regr.score(npX, npY)]\n",
    "\n",
    "def regApply(Season, Team, Years=2):\n",
    "    select = (trend['Season']>(Season-Years)) & (trend['Season']<=Season) & (trend['team']==Team)\n",
    "    X_Series = trend['absNum'][select]\n",
    "    Y_Series = trend['ELO'][select]\n",
    "    return seriesRegr(X_Series, Y_Series)"
   ]
  },
  {
   "cell_type": "code",
   "execution_count": 16,
   "metadata": {
    "scrolled": false
   },
   "outputs": [
    {
     "name": "stdout",
     "output_type": "stream",
     "text": [
      "Coefficients: \n",
      " [ 0.5698262]\n",
      "Mean squared error: 0.02\n",
      "Variance score: 0.62\n"
     ]
    },
    {
     "data": {
      "image/png": "[encoded data removed]",
      "text/plain": [
       "<matplotlib.figure.Figure at 0x31b6d76048>"
      ]
     },
     "metadata": {},
     "output_type": "display_data"
    },
    {
     "data": {
      "text/plain": [
       "[0.56982619940686152, 0.62164061197391662]"
      ]
     },
     "execution_count": 16,
     "metadata": {},
     "output_type": "execute_result"
    }
   ],
   "source": [
    "seriesRegr(likelihood.apply(lambda row: float(row['rdSimPct']),axis=1),likelihood['likelihood'],True)"
   ]
  },
  {
   "cell_type": "code",
   "execution_count": 17,
   "metadata": {},
   "outputs": [
    {
     "data": {
      "text/html": [
       "<div>\n",
       "<table border=\"1\" class=\"dataframe\">\n",
       "  <thead>\n",
       "    <tr style=\"text-align: right;\">\n",
       "      <th></th>\n",
       "      <th>id</th>\n",
       "      <th>qid1</th>\n",
       "      <th>qid2</th>\n",
       "      <th>question1</th>\n",
       "      <th>question2</th>\n",
       "      <th>is_duplicate</th>\n",
       "      <th>simPct</th>\n",
       "      <th>rdSimPct</th>\n",
       "    </tr>\n",
       "  </thead>\n",
       "  <tbody>\n",
       "    <tr>\n",
       "      <th>0</th>\n",
       "      <td>0</td>\n",
       "      <td>1</td>\n",
       "      <td>2</td>\n",
       "      <td>What is the step by step guide to invest in sh...</td>\n",
       "      <td>What is the step by step guide to invest in sh...</td>\n",
       "      <td>0</td>\n",
       "      <td>0.857143</td>\n",
       "      <td>0.86</td>\n",
       "    </tr>\n",
       "    <tr>\n",
       "      <th>1</th>\n",
       "      <td>1</td>\n",
       "      <td>3</td>\n",
       "      <td>4</td>\n",
       "      <td>What is the story of Kohinoor (Koh-i-Noor) Dia...</td>\n",
       "      <td>What would happen if the Indian government sto...</td>\n",
       "      <td>0</td>\n",
       "      <td>0.750000</td>\n",
       "      <td>0.75</td>\n",
       "    </tr>\n",
       "    <tr>\n",
       "      <th>2</th>\n",
       "      <td>2</td>\n",
       "      <td>5</td>\n",
       "      <td>6</td>\n",
       "      <td>How can I increase the speed of my internet co...</td>\n",
       "      <td>How can Internet speed be increased by hacking...</td>\n",
       "      <td>0</td>\n",
       "      <td>0.333333</td>\n",
       "      <td>0.33</td>\n",
       "    </tr>\n",
       "    <tr>\n",
       "      <th>3</th>\n",
       "      <td>3</td>\n",
       "      <td>7</td>\n",
       "      <td>8</td>\n",
       "      <td>Why am I mentally very lonely? How can I solve...</td>\n",
       "      <td>Find the remainder when [math]23^{24}[/math] i...</td>\n",
       "      <td>0</td>\n",
       "      <td>0.000000</td>\n",
       "      <td>0.00</td>\n",
       "    </tr>\n",
       "    <tr>\n",
       "      <th>4</th>\n",
       "      <td>4</td>\n",
       "      <td>9</td>\n",
       "      <td>10</td>\n",
       "      <td>Which one dissolve in water quikly sugar, salt...</td>\n",
       "      <td>Which fish would survive in salt water?</td>\n",
       "      <td>0</td>\n",
       "      <td>0.200000</td>\n",
       "      <td>0.20</td>\n",
       "    </tr>\n",
       "  </tbody>\n",
       "</table>\n",
       "</div>"
      ],
      "text/plain": [
       "   id  qid1  qid2                                          question1  \\\n",
       "0   0     1     2  What is the step by step guide to invest in sh...   \n",
       "1   1     3     4  What is the story of Kohinoor (Koh-i-Noor) Dia...   \n",
       "2   2     5     6  How can I increase the speed of my internet co...   \n",
       "3   3     7     8  Why am I mentally very lonely? How can I solve...   \n",
       "4   4     9    10  Which one dissolve in water quikly sugar, salt...   \n",
       "\n",
       "                                           question2  is_duplicate    simPct  \\\n",
       "0  What is the step by step guide to invest in sh...             0  0.857143   \n",
       "1  What would happen if the Indian government sto...             0  0.750000   \n",
       "2  How can Internet speed be increased by hacking...             0  0.333333   \n",
       "3  Find the remainder when [math]23^{24}[/math] i...             0  0.000000   \n",
       "4            Which fish would survive in salt water?             0  0.200000   \n",
       "\n",
       "  rdSimPct  \n",
       "0     0.86  \n",
       "1     0.75  \n",
       "2     0.33  \n",
       "3     0.00  \n",
       "4     0.20  "
      ]
     },
     "execution_count": 17,
     "metadata": {},
     "output_type": "execute_result"
    }
   ],
   "source": [
    "train.head()"
   ]
  },
  {
   "cell_type": "code",
   "execution_count": 18,
   "metadata": {},
   "outputs": [],
   "source": [
    "train = pd.merge(train,likelihood, on='rdSimPct')\n",
    "train = train.set_index('id').sort_index()"
   ]
  },
  {
   "cell_type": "code",
   "execution_count": 19,
   "metadata": {},
   "outputs": [
    {
     "name": "stdout",
     "output_type": "stream",
     "text": [
      "LogLoss Score (Train): 1.222622\n"
     ]
    }
   ],
   "source": [
    "print(\"LogLoss Score (Train): %f\" % metrics.log_loss(train['is_duplicate'], train['simPct']))"
   ]
  },
  {
   "cell_type": "code",
   "execution_count": 20,
   "metadata": {
    "collapsed": true
   },
   "outputs": [],
   "source": [
    "train['lenDiff']=train.apply(lambda row: len(row['question1'])/len(row['question2']),axis=1)\n",
    "train['length']=train.apply(lambda row: len(row['question1']),axis=1)"
   ]
  },
  {
   "cell_type": "code",
   "execution_count": 21,
   "metadata": {},
   "outputs": [
    {
     "data": {
      "text/plain": [
       "'question example elephants quite large'"
      ]
     },
     "execution_count": 21,
     "metadata": {},
     "output_type": "execute_result"
    }
   ],
   "source": [
    "question = \"this is a question example. Here and elephants are quite large\"\n",
    "question = question.lower()\n",
    "question = ''.join([x for x in question if not x in strPunc]) #change this to RE with punc followed by whitespace\n",
    "question = [x for x in question.split(' ') if x not in stops]\n",
    "' '.join(question[0:])\n"
   ]
  },
  {
   "cell_type": "code",
   "execution_count": 22,
   "metadata": {},
   "outputs": [
    {
     "name": "stdout",
     "output_type": "stream",
     "text": [
      "0 Minute(s), 50 Second(s).\n"
     ]
    }
   ],
   "source": [
    "start = time.time()\n",
    "#test_qs=pd.Series(test['question1'].tolist() + test['question2'].tolist()).astype(str)\n",
    "train_qs = pd.Series(train['question1'].tolist() + train['question2'].tolist()).astype(str)\n",
    "#train_qs=train_qs.append(test_qs)\n",
    "counter=0\n",
    "gDict = {}\n",
    "maxGram=5\n",
    "for i in range(1,maxGram+1):\n",
    "    gDict[i]={}\n",
    "for row in train_qs:\n",
    "    question = row\n",
    "    question = question.lower()\n",
    "    question = ''.join([x for x in question if not x in strPunc]) #change this to RE with punc followed by whitespace\n",
    "    question = [x for x in question.split(' ') if x not in stops]\n",
    "    for i in range(1,maxGram+1):\n",
    "        for count in range(0,len(question)-(i-1)):\n",
    "            phrase = ' '.join(question[count:count+i])\n",
    "            if phrase in gDict[i]:\n",
    "                gDict[i][phrase] = gDict[i][phrase] + 1\n",
    "            else:\n",
    "                gDict[i][phrase] = 1\n",
    "\n",
    "                \n",
    "#print(counter)\n",
    "duration = time.time() - start\n",
    "print(str(int(duration//60)) + \" Minute(s), \" + str(int(duration%60)) + \" Second(s).\")"
   ]
  },
  {
   "cell_type": "code",
   "execution_count": 23,
   "metadata": {},
   "outputs": [
    {
     "data": {
      "text/plain": [
       "1.0"
      ]
     },
     "execution_count": 23,
     "metadata": {},
     "output_type": "execute_result"
    }
   ],
   "source": [
    "np.log10(10)"
   ]
  },
  {
   "cell_type": "code",
   "execution_count": 25,
   "metadata": {
    "scrolled": true
   },
   "outputs": [
    {
     "data": {
      "text/plain": [
       "40.64322108292533"
      ]
     },
     "execution_count": 25,
     "metadata": {},
     "output_type": "execute_result"
    }
   ],
   "source": [
    "avDict={}\n",
    "\n",
    "sum([gDict[1][key] for key in gDict[1]])/len([gDict[1][key] for key in gDict[1]])"
   ]
  },
  {
   "cell_type": "code",
   "execution_count": 73,
   "metadata": {},
   "outputs": [
    {
     "data": {
      "text/plain": [
       "2.0"
      ]
     },
     "execution_count": 73,
     "metadata": {},
     "output_type": "execute_result"
    }
   ],
   "source": [
    "np.sqrt(4)"
   ]
  },
  {
   "cell_type": "code",
   "execution_count": 74,
   "metadata": {},
   "outputs": [],
   "source": [
    "weights={}\n",
    "for i in range(1,maxGram+1):\n",
    "    weights[i] = dict((k, 1/np.sqrt(v)) for k, v in gDict[i].items() if v>1)\n",
    "    #weights[i] = dict((k, 1/np.log(v)) for k, v in gDict[i].items() if v>1)"
   ]
  },
  {
   "cell_type": "code",
   "execution_count": 75,
   "metadata": {},
   "outputs": [
    {
     "name": "stdout",
     "output_type": "stream",
     "text": [
      "Most common words and weights: \n",
      "\n",
      "[('best', 0.0037665117385776454), ('get', 0.0050306546248321694), ('india', 0.0059028133610095519), ('people', 0.0061938802487512207), ('like', 0.0062629797753490568), ('good', 0.0063542353735870569), ('would', 0.0065120674599502609), ('one', 0.0071908957613184303), ('make', 0.0074194266399600717), ('way', 0.0074436416771926708)]\n",
      "\n",
      "Least common words and weights: \n"
     ]
    },
    {
     "data": {
      "text/plain": [
       "[('renders', 0.70710678118654746),\n",
       " ('mfe', 0.70710678118654746),\n",
       " ('clippersbloggers', 0.70710678118654746),\n",
       " ('faa', 0.70710678118654746),\n",
       " ('dmw', 0.70710678118654746),\n",
       " ('noncombat', 0.70710678118654746),\n",
       " ('patrikacom', 0.70710678118654746),\n",
       " ('polysemy', 0.70710678118654746),\n",
       " ('consul', 0.70710678118654746),\n",
       " ('apporach', 0.70710678118654746)]"
      ]
     },
     "execution_count": 75,
     "metadata": {},
     "output_type": "execute_result"
    }
   ],
   "source": [
    "print('Most common words and weights: \\n')\n",
    "print(sorted(weights[1].items(), key=lambda x: x[1] if x[1] > 0 else 9999)[:10])\n",
    "print('\\nLeast common words and weights: ')\n",
    "(sorted(weights[1].items(), key=lambda x: x[1], reverse=True)[:10])"
   ]
  },
  {
   "cell_type": "code",
   "execution_count": 29,
   "metadata": {
    "collapsed": true
   },
   "outputs": [],
   "source": [
    "a,b=train.loc[0,'question1'],train.loc[0,'question2']"
   ]
  },
  {
   "cell_type": "code",
   "execution_count": 30,
   "metadata": {},
   "outputs": [
    {
     "data": {
      "text/plain": [
       "0.93756567063907326"
      ]
     },
     "execution_count": 30,
     "metadata": {},
     "output_type": "execute_result"
    }
   ],
   "source": [
    "g=1\n",
    "a,b=train.loc[0,'question1'],train.loc[0,'question2']\n",
    "a,b=a.lower(),b.lower()\n",
    "a=''.join([x for x in a if not x in strPunc])\n",
    "b=''.join([x for x in b if not x in strPunc])\n",
    "a,b=a.split(),b.split()\n",
    "a=[x for x in a if x not in stops]\n",
    "b=[x for x in b if x not in stops]\n",
    "a=[' '.join(a[i:i+g]) for i in range(len(a)-g+1)]\n",
    "b=[' '.join(b[i:i+g]) for i in range(len(b)-g+1)]\n",
    "a=list(set(a))\n",
    "b=list(set(b))\n",
    "num=np.sum([weights[g].get(x,0) for x in a if x in b])+np.sum([weights[g].get(x,0) for x in b if x in a])\n",
    "den=np.sum([weights[g].get(x,0) for x in a])+np.sum([weights[g].get(x,0) for x in b])\n",
    "num/den"
   ]
  },
  {
   "cell_type": "code",
   "execution_count": 31,
   "metadata": {},
   "outputs": [
    {
     "data": {
      "text/plain": [
       "0"
      ]
     },
     "execution_count": 31,
     "metadata": {},
     "output_type": "execute_result"
    }
   ],
   "source": [
    "a.count('laugh')"
   ]
  },
  {
   "cell_type": "code",
   "execution_count": 32,
   "metadata": {
    "scrolled": true
   },
   "outputs": [
    {
     "name": "stdout",
     "output_type": "stream",
     "text": [
      "one two three four\n",
      "one two three four five\n"
     ]
    }
   ],
   "source": [
    "a,b=\"one two three four\",\"one two three four five\"\n",
    "print(a)\n",
    "print(b)"
   ]
  },
  {
   "cell_type": "code",
   "execution_count": 76,
   "metadata": {},
   "outputs": [],
   "source": [
    "def genGram(a,b,g=1):\n",
    "    a,b=a.lower(),b.lower()\n",
    "    a=''.join([x for x in a if not x in strPunc])\n",
    "    b=''.join([x for x in b if not x in strPunc])\n",
    "    a,b=a.split(),b.split()\n",
    "    a=[x for x in a if x not in stops]\n",
    "    b=[x for x in b if x not in stops]\n",
    "    a=[' '.join(a[i:i+g]) for i in range(len(a)-g+1)]\n",
    "    b=[' '.join(b[i:i+g]) for i in range(len(b)-g+1)]\n",
    "    a=list(set(a))\n",
    "    b=list(set(b))\n",
    "    num=np.sum([1 for x in a if x in b])+np.sum([1 for x in b if x in a])\n",
    "    den=len(a)+len(b)\n",
    "    return num/den\n",
    "\n",
    "\n",
    "def genGramTFIDF(a,b,g=1): #WIP\n",
    "    a,b=a.lower(),b.lower()\n",
    "    a=''.join([x for x in a if not x in strPunc])\n",
    "    b=''.join([x for x in b if not x in strPunc])\n",
    "    a,b=a.split(),b.split()\n",
    "    a=[x for x in a if x not in stops]\n",
    "    b=[x for x in b if x not in stops]\n",
    "    a=[' '.join(a[i:i+g]) for i in range(len(a)-g+1)]\n",
    "    b=[' '.join(b[i:i+g]) for i in range(len(b)-g+1)]\n",
    "    #a=list(set(a))\n",
    "    #b=list(set(b))\n",
    "    num=np.sum([b.count(x)*weights[g].get(x,0)**2 for x in a if x in b])\n",
    "    den = (np.linalg.norm(np.array([weights[g].get(x,0) for x in a]))*\n",
    "        np.linalg.norm(np.array([weights[g].get(x,0) for x in b]))\n",
    "       )\n",
    "    return num,den,num/den"
   ]
  },
  {
   "cell_type": "code",
   "execution_count": 66,
   "metadata": {},
   "outputs": [
    {
     "data": {
      "text/plain": [
       "(0.069400937283604233, 0.080991186497678613, 0.85689493245778559)"
      ]
     },
     "execution_count": 66,
     "metadata": {},
     "output_type": "execute_result"
    }
   ],
   "source": [
    "genGramTFIDF(a,b)"
   ]
  },
  {
   "cell_type": "code",
   "execution_count": 36,
   "metadata": {
    "scrolled": false
   },
   "outputs": [],
   "source": [
    "train=train.sample(40000)"
   ]
  },
  {
   "cell_type": "code",
   "execution_count": 68,
   "metadata": {
    "scrolled": true
   },
   "outputs": [
    {
     "name": "stderr",
     "output_type": "stream",
     "text": [
      "C:\\Anaconda3\\lib\\site-packages\\ipykernel\\__main__.py:14: RuntimeWarning: invalid value encountered in double_scalars\n"
     ]
    },
    {
     "name": "stdout",
     "output_type": "stream",
     "text": [
      "1\n",
      "2\n",
      "3\n",
      "4\n",
      "5\n",
      "0 Minute(s), 29 Second(s).\n"
     ]
    }
   ],
   "source": [
    "start = time.time()\n",
    "for i in range(1,maxGram+1):\n",
    "    train['GramPct'+str(i)]= train.apply(lambda row: genGram(row['question1'],row['question2'],i),axis=1)\n",
    "    print(i)\n",
    "duration = time.time() - start\n",
    "print(str(int(duration//60)) + \" Minute(s), \" + str(int(duration%60)) + \" Second(s).\")"
   ]
  },
  {
   "cell_type": "code",
   "execution_count": 77,
   "metadata": {},
   "outputs": [
    {
     "name": "stderr",
     "output_type": "stream",
     "text": [
      "C:\\Anaconda3\\lib\\site-packages\\ipykernel\\__main__.py:32: RuntimeWarning: invalid value encountered in double_scalars\n"
     ]
    },
    {
     "name": "stdout",
     "output_type": "stream",
     "text": [
      "1\n",
      "2\n",
      "3\n",
      "4\n",
      "5\n",
      "0 Minute(s), 40 Second(s).\n"
     ]
    }
   ],
   "source": [
    "start = time.time()\n",
    "for i in range(1,maxGram+1):\n",
    "    (train['GIDFNum'+str(i)],train['GIDFDen'+str(i)],train['GIDF'+str(i)])= \\\n",
    "    zip(*train.apply(lambda row: genGramTFIDF(row['question1'],row['question2'],i),axis=1))\n",
    "    print(i)\n",
    "duration = time.time() - start\n",
    "print(str(int(duration//60)) + \" Minute(s), \" + str(int(duration%60)) + \" Second(s).\")"
   ]
  },
  {
   "cell_type": "code",
   "execution_count": 40,
   "metadata": {
    "collapsed": true
   },
   "outputs": [],
   "source": [
    "def normalizer(num):\n",
    "    return num**(1/25)"
   ]
  },
  {
   "cell_type": "code",
   "execution_count": 41,
   "metadata": {},
   "outputs": [
    {
     "name": "stdout",
     "output_type": "stream",
     "text": [
      "0 Minute(s), 0 Second(s).\n"
     ]
    }
   ],
   "source": [
    "start = time.time()\n",
    "#train['threeGIDF']= train.apply(lambda row: threeGramTFIDF(row['question1'],row['question2']),axis=1)\n",
    "duration = time.time() - start\n",
    "print(str(int(duration//60)) + \" Minute(s), \" + str(int(duration%60)) + \" Second(s).\")"
   ]
  },
  {
   "cell_type": "code",
   "execution_count": 42,
   "metadata": {
    "collapsed": true
   },
   "outputs": [],
   "source": [
    "train['pctPos']=train.apply(lambda row: 0.165, axis=1)"
   ]
  },
  {
   "cell_type": "code",
   "execution_count": 43,
   "metadata": {
    "collapsed": true
   },
   "outputs": [],
   "source": [
    "target='is_duplicate'"
   ]
  },
  {
   "cell_type": "code",
   "execution_count": 45,
   "metadata": {},
   "outputs": [],
   "source": [
    "predictors = [x for x in list(train) if x not in ['id','qid1','qid2','question1','question2','is_duplicate','rdSimPct']]"
   ]
  },
  {
   "cell_type": "code",
   "execution_count": 46,
   "metadata": {},
   "outputs": [],
   "source": [
    "#predictors=['GIDF1','GramPct1']"
   ]
  },
  {
   "cell_type": "code",
   "execution_count": 85,
   "metadata": {
    "scrolled": true
   },
   "outputs": [
    {
     "name": "stdout",
     "output_type": "stream",
     "text": [
      "[0]\ttrain-logloss:0.658193\tvalid-logloss:0.657737\n",
      "Multiple eval metrics have been passed: 'valid-logloss' will be used for early stopping.\n",
      "\n",
      "Will train until valid-logloss hasn't improved in 50 rounds.\n",
      "[10]\ttrain-logloss:0.497265\tvalid-logloss:0.495157\n",
      "[20]\ttrain-logloss:0.449156\tvalid-logloss:0.447948\n",
      "[30]\ttrain-logloss:0.429387\tvalid-logloss:0.428992\n",
      "[40]\ttrain-logloss:0.418636\tvalid-logloss:0.419932\n",
      "[50]\ttrain-logloss:0.411931\tvalid-logloss:0.414326\n",
      "[60]\ttrain-logloss:0.406024\tvalid-logloss:0.410498\n",
      "[70]\ttrain-logloss:0.40226\tvalid-logloss:0.408502\n",
      "[80]\ttrain-logloss:0.398229\tvalid-logloss:0.405915\n",
      "[90]\ttrain-logloss:0.395157\tvalid-logloss:0.404362\n",
      "[100]\ttrain-logloss:0.39248\tvalid-logloss:0.403062\n",
      "[110]\ttrain-logloss:0.389738\tvalid-logloss:0.40187\n",
      "[120]\ttrain-logloss:0.387072\tvalid-logloss:0.400677\n",
      "[130]\ttrain-logloss:0.385578\tvalid-logloss:0.40017\n",
      "[140]\ttrain-logloss:0.383333\tvalid-logloss:0.399208\n",
      "[150]\ttrain-logloss:0.381333\tvalid-logloss:0.398724\n",
      "[160]\ttrain-logloss:0.378976\tvalid-logloss:0.398098\n",
      "[170]\ttrain-logloss:0.377296\tvalid-logloss:0.397972\n",
      "[180]\ttrain-logloss:0.375769\tvalid-logloss:0.397565\n",
      "[190]\ttrain-logloss:0.373672\tvalid-logloss:0.396871\n",
      "[200]\ttrain-logloss:0.371635\tvalid-logloss:0.396562\n",
      "[210]\ttrain-logloss:0.36949\tvalid-logloss:0.395796\n",
      "[220]\ttrain-logloss:0.368072\tvalid-logloss:0.39573\n",
      "[230]\ttrain-logloss:0.366623\tvalid-logloss:0.39529\n",
      "[240]\ttrain-logloss:0.36509\tvalid-logloss:0.395193\n",
      "[250]\ttrain-logloss:0.363634\tvalid-logloss:0.395045\n",
      "[260]\ttrain-logloss:0.361963\tvalid-logloss:0.394644\n",
      "[270]\ttrain-logloss:0.360616\tvalid-logloss:0.394508\n",
      "[280]\ttrain-logloss:0.359125\tvalid-logloss:0.394229\n",
      "[290]\ttrain-logloss:0.357529\tvalid-logloss:0.393881\n"
     ]
    }
   ],
   "source": [
    "from sklearn.cross_validation import train_test_split\n",
    "\n",
    "x_train, x_valid, y_train, y_valid = train_test_split(train[predictors], train[target], test_size=0.2, random_state=4242)\n",
    "\n",
    "# Set our parameters for xgboost\n",
    "params = {}\n",
    "params['objective'] = 'binary:logistic'\n",
    "params['eval_metric'] = 'logloss'\n",
    "params['eta'] = 0.1\n",
    "params['max_depth'] = 4\n",
    "\n",
    "d_train = xgb.DMatrix(x_train, label=y_train)\n",
    "d_valid = xgb.DMatrix(x_valid, label=y_valid)\n",
    "\n",
    "watchlist = [(d_train, 'train'), (d_valid, 'valid')]\n",
    "\n",
    "bst = xgb.train(params, d_train, 300, watchlist, early_stopping_rounds=50, verbose_eval=10)"
   ]
  },
  {
   "cell_type": "code",
   "execution_count": 72,
   "metadata": {},
   "outputs": [
    {
     "data": {
      "image/png": "[encoded data removed]",
      "text/plain": [
       "<matplotlib.figure.Figure at 0x31b6758be0>"
      ]
     },
     "metadata": {},
     "output_type": "display_data"
    }
   ],
   "source": [
    "plt.rcParams['figure.figsize'] = (12.0, 15.0)\n",
    "xgb.plot_importance(bst); plt.show()"
   ]
  },
  {
   "cell_type": "code",
   "execution_count": 1,
   "metadata": {
    "collapsed": true
   },
   "outputs": [],
   "source": [
    "#New Set, only GIDF1 and oneGPct: 0.526645\n",
    "#Total re-up with all attributes: 0.450352\n",
    "#removing punctuation: 0.491681\n",
    "#setting to 10k eps: 0.492241\n",
    "#Using new norm: 0.492103\n",
    "#Removing uniqueness: 0.492353\n",
    "#adding up to 5-grams: 0.425592\n",
    "#Switching to Cosine with num and den: 0.386617\n",
    "#md = 5: 0.380441\n",
    "#md=7: 0.374092\n",
    "\n",
    "##########################################################\n",
    "#word match: 0.533386\n",
    "#lenDiff: 0.51879\n",
    "#+length: 0.51078\n",
    "#+2-gram ct&pct\n",
    "#+3-gram ct&pct: 0.500387\n",
    "#ETA to 0.3: 0.498744\n",
    "#+Basic IDF: 0.488933\n",
    "#+proportionality norm vector: 0.485098\n",
    "#+2-gram IDF: 0.476334\n",
    "#+3-gram IDF: 0.476334\n",
    "#+eps: 0.451873\n",
    "#+Increasing eps: 0.435362\n",
    "#+Increasing eps: 0.433209\n",
    "#+3-gram for real this time: 0.424584\n",
    "\n",
    "#Eps reset: 0.428649\n",
    "#Upping to 10k eps: 0.418711\n",
    "#removing 1000 dividend, limiting divisor eps to 100: 0.445081\n",
    "#increasing eps back to 10000: 0.418711 #Pretty much expected\n",
    "#increasing eps to 100k: 0.417037\n",
    "#normalizing metric with **(1/25): 0.417037... does this mean it already transformed it, and this wasn't needed?\n",
    "#Adding 4&5 grams: 0.42157...why did it get worse? Because I left so many vars in\n",
    "#removing excess vars: 0.411745\n",
    "#increasing trees to 7: 0.413171\n",
    "#decreasing trees to 3: 0.416839\n",
    "#back to 5 trees, lr of 0.2 from 0.3: 0.410837\n",
    "#further decreasing to 0.1: 0.417812\n",
    "#up to 0.15: 0.415507\n",
    "#up to 0.25: 0.415581\n",
    "#back to 0.2: 0.410837\n",
    "#Changed norm to length avg: ~0.418\n",
    "#Back to norm norm: 0.410873\n",
    "#0.02 eta and md = 4: 0.441539\n",
    "#reverting: 0.410873\n",
    "#Adding eps to norm: \n",
    "\n",
    "\n",
    "#Changing to eta=0.7, md=5, rounds=100: 0.417584\n",
    "\n",
    "#before eps: 0.554686\n",
    "#after eps: 0.522193"
   ]
  },
  {
   "cell_type": "code",
   "execution_count": 50,
   "metadata": {
    "scrolled": true
   },
   "outputs": [
    {
     "ename": "NameError",
     "evalue": "name 'notafunc' is not defined",
     "output_type": "error",
     "traceback": [
      "\u001b[0;31m---------------------------------------------------------------------------\u001b[0m",
      "\u001b[0;31mNameError\u001b[0m                                 Traceback (most recent call last)",
      "\u001b[0;32m<ipython-input-50-d89294132190>\u001b[0m in \u001b[0;36m<module>\u001b[0;34m()\u001b[0m\n\u001b[0;32m----> 1\u001b[0;31m \u001b[0mnotafunc\u001b[0m\u001b[1;33m\u001b[0m\u001b[0m\n\u001b[0m",
      "\u001b[0;31mNameError\u001b[0m: name 'notafunc' is not defined"
     ]
    }
   ],
   "source": [
    "notafunc"
   ]
  },
  {
   "cell_type": "code",
   "execution_count": null,
   "metadata": {
    "scrolled": true
   },
   "outputs": [],
   "source": [
    "plt.figure(1)\n",
    "curr=1\n",
    "train[(train['is_duplicate']==0)&(train['GIDF'+str(curr)]>0)].apply(lambda row: row['GIDF'+str(curr)]**(1/1),axis=1).hist(alpha=0.6,bins=20)\n",
    "train[(train['is_duplicate']==1)&(train['GIDF'+str(curr)]>0)].apply(lambda row: row['GIDF'+str(curr)]**(1/1),axis=1).hist(alpha=0.6,bins=20)\n",
    "plt.show()"
   ]
  },
  {
   "cell_type": "code",
   "execution_count": null,
   "metadata": {},
   "outputs": [],
   "source": [
    "ngram_vectorizer = CountVectorizer(analyzer='char_wb', ngram_range=(2, 2), min_df=1)\n",
    "counts = ngram_vectorizer.fit_transform(['words', 'wprds', 'dsdsds', 'sd'])\n",
    "ngram_vectorizer.get_feature_names()"
   ]
  },
  {
   "cell_type": "code",
   "execution_count": null,
   "metadata": {},
   "outputs": [],
   "source": [
    "start = time.time()\n",
    "transformer = TfidfTransformer(smooth_idf=False)\n",
    "ngram_vectorizer = CountVectorizer(analyzer='word', ngram_range=(1, 1), min_df=1)\n",
    "counts = ngram_vectorizer.fit_transform(train.loc[:,'question1'].append(train.loc[:,'question2']))\n",
    "tfidf = transformer.fit_transform(counts)\n",
    "time.time()-start"
   ]
  },
  {
   "cell_type": "code",
   "execution_count": null,
   "metadata": {
    "scrolled": true
   },
   "outputs": [],
   "source": [
    "ngram_vectorizer.get_feature_names()"
   ]
  },
  {
   "cell_type": "code",
   "execution_count": null,
   "metadata": {},
   "outputs": [],
   "source": [
    "start = time.time()\n",
    "size=tfidf.shape[0]/2\n",
    "place1=1\n",
    "place2=place1+size\n",
    "#similarities = cosine_similarity(tfidf)\n",
    "#print('pairwise dense output:\\n {}\\n'.format(similarities))\n",
    "time.time()-start"
   ]
  },
  {
   "cell_type": "code",
   "execution_count": null,
   "metadata": {},
   "outputs": [],
   "source": [
    "timeit.timeit('cosine_similarity(tfidf[[1,2]].todense())',number=10, globals=globals())"
   ]
  },
  {
   "cell_type": "code",
   "execution_count": null,
   "metadata": {},
   "outputs": [],
   "source": [
    "tfidf"
   ]
  },
  {
   "cell_type": "code",
   "execution_count": null,
   "metadata": {},
   "outputs": [],
   "source": [
    "tfidf[[1,2,5]].todense()"
   ]
  },
  {
   "cell_type": "code",
   "execution_count": null,
   "metadata": {
    "collapsed": true
   },
   "outputs": [],
   "source": [
    "###################NV STATE LINES############################"
   ]
  },
  {
   "cell_type": "code",
   "execution_count": null,
   "metadata": {},
   "outputs": [],
   "source": [
    "notafunc"
   ]
  },
  {
   "cell_type": "code",
   "execution_count": null,
   "metadata": {},
   "outputs": [],
   "source": [
    "train['oneGIDF'].describe()"
   ]
  },
  {
   "cell_type": "code",
   "execution_count": null,
   "metadata": {},
   "outputs": [],
   "source": [
    "plt.figure(1)\n",
    "curr=5\n",
    "train[['GIDF1','GramPct1']].hist(alpha=0.6,bins=20)\n",
    "#train[(train['is_duplicate']==1)&(train['GIDF'+str(curr)]>0)].apply(lambda row: row['GIDF'+str(curr)]**(1/25),axis=1).hist(alpha=0.6,bins=20)\n",
    "plt.show()"
   ]
  },
  {
   "cell_type": "code",
   "execution_count": null,
   "metadata": {},
   "outputs": [],
   "source": [
    "train_qs = pd.Series(train['question1'].tolist() + train['question2'].tolist()).astype(str)"
   ]
  },
  {
   "cell_type": "code",
   "execution_count": null,
   "metadata": {},
   "outputs": [],
   "source": [
    "series_regr(train['oneGIDF'],train['is_duplicate'])"
   ]
  },
  {
   "cell_type": "code",
   "execution_count": null,
   "metadata": {},
   "outputs": [],
   "source": [
    "start = time.time()\n",
    "train_qs = pd.Series(train['question1'].tolist() + train['question2'].tolist()).astype(str)\n",
    "counter=0\n",
    "oneGDict = {}\n",
    "for row in train_qs:\n",
    "    question = row\n",
    "    question = question.lower()\n",
    "    question = ''.join([x for x in question if not x in strPunc]) #change this to RE with punc followed by whitespace\n",
    "    question = [x for x in question.split(' ') if x not in stops]\n",
    "    for word in question:\n",
    "        if word in oneGDict:\n",
    "            oneGDict[word]=oneGDict[word]+1\n",
    "        else:\n",
    "            oneGDict[word]=1\n",
    "            \n",
    "#print(counter)\n",
    "duration = time.time() - start\n",
    "print(str(int(duration//60)) + \" Minute(s), \" + str(int(duration%60)) + \" Second(s).\")"
   ]
  },
  {
   "cell_type": "code",
   "execution_count": null,
   "metadata": {},
   "outputs": [],
   "source": [
    "question = train_qs[3]\n",
    "question = question.lower()\n",
    "question = ''.join([x for x in question if not x in strPunc])\n",
    "question = [x for x in question.split(' ') if x not in stops]\n",
    "for word in question:\n",
    "    #word = [x for x in word.split(' ') if x not in stops]\n",
    "    print(word)"
   ]
  },
  {
   "cell_type": "code",
   "execution_count": null,
   "metadata": {},
   "outputs": [],
   "source": [
    "len(oneGDict)"
   ]
  },
  {
   "cell_type": "code",
   "execution_count": null,
   "metadata": {},
   "outputs": [],
   "source": [
    "strPunc =strPunc + '”'"
   ]
  },
  {
   "cell_type": "code",
   "execution_count": null,
   "metadata": {},
   "outputs": [],
   "source": [
    "strPunc"
   ]
  },
  {
   "cell_type": "code",
   "execution_count": null,
   "metadata": {
    "collapsed": true
   },
   "outputs": [],
   "source": [
    "question = 'this, tst a\"'"
   ]
  },
  {
   "cell_type": "code",
   "execution_count": null,
   "metadata": {},
   "outputs": [],
   "source": [
    "''.join([x for x in question if not x in strPunc])"
   ]
  },
  {
   "cell_type": "code",
   "execution_count": null,
   "metadata": {},
   "outputs": [],
   "source": [
    "Vec = ngram_vectorizer.get_feature_names()"
   ]
  },
  {
   "cell_type": "code",
   "execution_count": null,
   "metadata": {},
   "outputs": [],
   "source": [
    "tDict={}\n",
    "for a in Vec:\n",
    "    tDict[a]=7"
   ]
  },
  {
   "cell_type": "code",
   "execution_count": null,
   "metadata": {},
   "outputs": [],
   "source": [
    "len(tDict)"
   ]
  },
  {
   "cell_type": "code",
   "execution_count": null,
   "metadata": {},
   "outputs": [],
   "source": [
    "timeit.timeit(\"tdf.loc[tdf['0']=='za']\",number=100000000, globals=globals())"
   ]
  },
  {
   "cell_type": "code",
   "execution_count": null,
   "metadata": {},
   "outputs": [],
   "source": [
    "tDict['super']"
   ]
  },
  {
   "cell_type": "code",
   "execution_count": null,
   "metadata": {
    "scrolled": false
   },
   "outputs": [],
   "source": [
    "counts"
   ]
  },
  {
   "cell_type": "code",
   "execution_count": null,
   "metadata": {},
   "outputs": [],
   "source": [
    "train.loc[1:2,'question1']"
   ]
  },
  {
   "cell_type": "code",
   "execution_count": null,
   "metadata": {},
   "outputs": [],
   "source": [
    "start = time.time()\n",
    "transformer = TfidfTransformer(smooth_idf=False)\n",
    "time.time()-start"
   ]
  },
  {
   "cell_type": "code",
   "execution_count": null,
   "metadata": {},
   "outputs": [],
   "source": [
    "a=tfidf[[1,2,5]].toarray()"
   ]
  },
  {
   "cell_type": "code",
   "execution_count": null,
   "metadata": {},
   "outputs": [],
   "source": [
    "start = time.time()\n",
    "ngram_vectorizer = CountVectorizer(analyzer='word', ngram_range=(1, 1), min_df=1)\n",
    "counts = ngram_vectorizer.fit_transform(train.loc[2:3,'question1'].append(train.loc[2:3,'question2']))\n",
    "ngram_vectorizer.get_feature_names()\n",
    "time.time()-start"
   ]
  },
  {
   "cell_type": "code",
   "execution_count": null,
   "metadata": {},
   "outputs": [],
   "source": [
    "counts.toarray()"
   ]
  },
  {
   "cell_type": "code",
   "execution_count": null,
   "metadata": {},
   "outputs": [],
   "source": [
    "start = time.time()\n",
    "ngram_vectorizer = CountVectorizer(analyzer='word', ngram_range=(1, 1), min_df=1)\n",
    "counts = ngram_vectorizer.fit_transform(['words of words','words list words','list list list list list list'])\n",
    "ngram_vectorizer.get_feature_names()\n",
    "tfidf = transformer.fit_transform(counts)\n",
    "time.time()-start"
   ]
  },
  {
   "cell_type": "code",
   "execution_count": null,
   "metadata": {
    "scrolled": true
   },
   "outputs": [],
   "source": [
    "ngram_vectorizer.get_feature_names()"
   ]
  },
  {
   "cell_type": "code",
   "execution_count": null,
   "metadata": {},
   "outputs": [],
   "source": [
    "tfidf.transpose().todense()"
   ]
  },
  {
   "cell_type": "code",
   "execution_count": null,
   "metadata": {},
   "outputs": [],
   "source": [
    "tfidf.todense()"
   ]
  },
  {
   "cell_type": "code",
   "execution_count": null,
   "metadata": {},
   "outputs": [],
   "source": [
    "similarities = cosine_similarity(tfidf)\n",
    "print('pairwise dense output:\\n {}\\n'.format(similarities))"
   ]
  },
  {
   "cell_type": "code",
   "execution_count": null,
   "metadata": {},
   "outputs": [],
   "source": [
    "train[predictors]"
   ]
  },
  {
   "cell_type": "code",
   "execution_count": null,
   "metadata": {
    "collapsed": true
   },
   "outputs": [],
   "source": []
  }
 ],
 "metadata": {
  "kernelspec": {
   "display_name": "Python 3",
   "language": "python",
   "name": "python3"
  },
  "language_info": {
   "codemirror_mode": {
    "name": "ipython",
    "version": 3
   },
   "file_extension": ".py",
   "mimetype": "text/x-python",
   "name": "python",
   "nbconvert_exporter": "python",
   "pygments_lexer": "ipython3",
   "version": "3.6.8"
  }
 },
 "nbformat": 4,
 "nbformat_minor": 2
}
